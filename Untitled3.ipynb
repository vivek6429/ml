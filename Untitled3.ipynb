{
 "cells": [
  {
   "cell_type": "code",
   "execution_count": 32,
   "metadata": {},
   "outputs": [],
   "source": [
    "#Which location having maximum death cases for male and female and Print all types of symptom.\n",
    "import pandas as pd\n",
    "entiredf=pd.read_csv(\"COVID1.csv\")"
   ]
  },
  {
   "cell_type": "code",
   "execution_count": 33,
   "metadata": {},
   "outputs": [
    {
     "name": "stdout",
     "output_type": "stream",
     "text": [
      "Index(['id', 'case_in_country', 'reporting date', 'Unnamed: 3', 'summary',\n",
      "       'location', 'country', 'gender', 'age', 'symptom_onset',\n",
      "       'If_onset_approximated', 'hosp_visit_date', 'exposure_start',\n",
      "       'exposure_end', 'visiting Wuhan', 'from Wuhan', 'death', 'recovered',\n",
      "       'symptom', 'source', 'link', 'Unnamed: 21', 'Unnamed: 22',\n",
      "       'Unnamed: 23', 'Unnamed: 24', 'Unnamed: 25', 'Unnamed: 26'],\n",
      "      dtype='object')\n"
     ]
    }
   ],
   "source": [
    "df=entiredf.copy()\n",
    "df.head()\n",
    "df.tail()\n",
    "print(df.columns)\n",
    "# last  columns are empty so dropping them\n",
    "df=df.drop(['Unnamed: 3','Unnamed: 21', 'Unnamed: 22',\n",
    "       'Unnamed: 23', 'Unnamed: 24', 'Unnamed: 25', 'Unnamed: 26'],axis=1)\n"
   ]
  },
  {
   "cell_type": "code",
   "execution_count": 34,
   "metadata": {},
   "outputs": [
    {
     "data": {
      "text/plain": [
       "'000000000000000000000000000000000000000000000000111111111111111110000000000000000111111100000000000111111111111111000000000000000000000000000000000000000000000000000000000000000000000000000000000000002/14/20200000000000002/26/20200000000000000000000000000000000000000000000000002/13/20200002/28/20200000000000000000000000002/26/20200000000000000000000000000000000000000000002/27/20200000000000000000000000000000000000000000000000000000002/25/202000000000000000000000000000000000000000000000000000000000000000000000000000000000000000000000000000000000000000000000000000000000000000000000000000000000000000000000000000000000000000000000002/23/20200000000000000002/23/20202/23/2020000000000000000000000000000000000000000000000000002/26/202002/23/20202/24/202002/22/20202/25/202002/27/20200000000000000000001000000000000000000000000000000000000000000000000000000000000000000000000000000000000000000000000000000000000000000000000000000000000000000000000000000000000000000000000000000000000000000000000000000000000001000000000000000000000000000000000000000001000000000000000000000000000000000000000000000000000000000000000000002/01/2000000000000000000000000000000000000000002/19/20202/19/20202/21/20202/21/2020000000000000000000000000000000000000000000000000'"
      ]
     },
     "execution_count": 34,
     "metadata": {},
     "output_type": "execute_result"
    }
   ],
   "source": [
    "df.death=df.death.dropna()\n",
    "df.death.sum()"
   ]
  },
  {
   "cell_type": "code",
   "execution_count": 35,
   "metadata": {},
   "outputs": [],
   "source": [
    "df=df.loc[df.death.isin(['0','1'])]\n",
    "df.gender=df.gender.astype(str)\n",
    "df=df.loc[df.gender.isin(['female'])]\n",
    "df.death=df.death.astype(int)"
   ]
  },
  {
   "cell_type": "code",
   "execution_count": 37,
   "metadata": {},
   "outputs": [
    {
     "data": {
      "text/plain": [
       "'Wuhan, Hubei'"
      ]
     },
     "execution_count": 37,
     "metadata": {},
     "output_type": "execute_result"
    }
   ],
   "source": [
    "df.death.sum()\n",
    "df2=df[['location','gender','death']]\n",
    "df2.head()\n",
    "df2.groupby(['location']).death.sum().idxmax()\n"
   ]
  }
 ],
 "metadata": {
  "kernelspec": {
   "display_name": "Python 3",
   "language": "python",
   "name": "python3"
  },
  "language_info": {
   "codemirror_mode": {
    "name": "ipython",
    "version": 3
   },
   "file_extension": ".py",
   "mimetype": "text/x-python",
   "name": "python",
   "nbconvert_exporter": "python",
   "pygments_lexer": "ipython3",
   "version": "3.8.5"
  }
 },
 "nbformat": 4,
 "nbformat_minor": 4
}
