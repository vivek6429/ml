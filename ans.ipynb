{
 "cells": [
  {
   "cell_type": "code",
   "execution_count": 104,
   "metadata": {},
   "outputs": [
    {
     "name": "stderr",
     "output_type": "stream",
     "text": [
      "/usr/lib/python3.8/site-packages/IPython/core/interactiveshell.py:3071: DtypeWarning: Columns (5) have mixed types.Specify dtype option on import or set low_memory=False.\n",
      "  has_raised = await self.run_ast_nodes(code_ast.body, cell_name,\n"
     ]
    },
    {
     "data": {
      "text/html": [
       "<div>\n",
       "<style scoped>\n",
       "    .dataframe tbody tr th:only-of-type {\n",
       "        vertical-align: middle;\n",
       "    }\n",
       "\n",
       "    .dataframe tbody tr th {\n",
       "        vertical-align: top;\n",
       "    }\n",
       "\n",
       "    .dataframe thead th {\n",
       "        text-align: right;\n",
       "    }\n",
       "</style>\n",
       "<table border=\"1\" class=\"dataframe\">\n",
       "  <thead>\n",
       "    <tr style=\"text-align: right;\">\n",
       "      <th></th>\n",
       "      <th>Registrar</th>\n",
       "      <th>enrolment_agency</th>\n",
       "      <th>State</th>\n",
       "      <th>District</th>\n",
       "      <th>sub_district</th>\n",
       "      <th>pin_code</th>\n",
       "      <th>Gender</th>\n",
       "      <th>Age</th>\n",
       "      <th>aadhaar_generated</th>\n",
       "      <th>enrolment_rejected</th>\n",
       "      <th>rp_email</th>\n",
       "      <th>rp_mobileno</th>\n",
       "    </tr>\n",
       "  </thead>\n",
       "  <tbody>\n",
       "    <tr>\n",
       "      <th>0</th>\n",
       "      <td>Allahabad Bank</td>\n",
       "      <td>A-Onerealtors Pvt Ltd</td>\n",
       "      <td>Uttar Pradesh</td>\n",
       "      <td>Allahabad</td>\n",
       "      <td>Meja</td>\n",
       "      <td>212303</td>\n",
       "      <td>F</td>\n",
       "      <td>7</td>\n",
       "      <td>1</td>\n",
       "      <td>0</td>\n",
       "      <td>0</td>\n",
       "      <td>1</td>\n",
       "    </tr>\n",
       "    <tr>\n",
       "      <th>1</th>\n",
       "      <td>Allahabad Bank</td>\n",
       "      <td>Asha Security Guard Services</td>\n",
       "      <td>Uttar Pradesh</td>\n",
       "      <td>Sonbhadra</td>\n",
       "      <td>Robertsganj</td>\n",
       "      <td>231213</td>\n",
       "      <td>M</td>\n",
       "      <td>8</td>\n",
       "      <td>1</td>\n",
       "      <td>0</td>\n",
       "      <td>0</td>\n",
       "      <td>0</td>\n",
       "    </tr>\n",
       "    <tr>\n",
       "      <th>2</th>\n",
       "      <td>Allahabad Bank</td>\n",
       "      <td>SGS INDIA PVT LTD</td>\n",
       "      <td>Uttar Pradesh</td>\n",
       "      <td>Sultanpur</td>\n",
       "      <td>Sultanpur</td>\n",
       "      <td>227812</td>\n",
       "      <td>F</td>\n",
       "      <td>13</td>\n",
       "      <td>1</td>\n",
       "      <td>0</td>\n",
       "      <td>0</td>\n",
       "      <td>1</td>\n",
       "    </tr>\n",
       "    <tr>\n",
       "      <th>3</th>\n",
       "      <td>Allahabad Bank</td>\n",
       "      <td>Sri Ramraja Sarkar Lok Kalyan Trust</td>\n",
       "      <td>Uttar Pradesh</td>\n",
       "      <td>Shamli</td>\n",
       "      <td>Shamli</td>\n",
       "      <td>247775</td>\n",
       "      <td>M</td>\n",
       "      <td>6</td>\n",
       "      <td>1</td>\n",
       "      <td>0</td>\n",
       "      <td>0</td>\n",
       "      <td>1</td>\n",
       "    </tr>\n",
       "    <tr>\n",
       "      <th>4</th>\n",
       "      <td>Allahabad Bank</td>\n",
       "      <td>Transmoovers India</td>\n",
       "      <td>Uttar Pradesh</td>\n",
       "      <td>Gorakhpur</td>\n",
       "      <td>Sahjanwa</td>\n",
       "      <td>273001</td>\n",
       "      <td>M</td>\n",
       "      <td>8</td>\n",
       "      <td>1</td>\n",
       "      <td>0</td>\n",
       "      <td>0</td>\n",
       "      <td>1</td>\n",
       "    </tr>\n",
       "  </tbody>\n",
       "</table>\n",
       "</div>"
      ],
      "text/plain": [
       "        Registrar                     enrolment_agency          State  \\\n",
       "0  Allahabad Bank                A-Onerealtors Pvt Ltd  Uttar Pradesh   \n",
       "1  Allahabad Bank         Asha Security Guard Services  Uttar Pradesh   \n",
       "2  Allahabad Bank                    SGS INDIA PVT LTD  Uttar Pradesh   \n",
       "3  Allahabad Bank  Sri Ramraja Sarkar Lok Kalyan Trust  Uttar Pradesh   \n",
       "4  Allahabad Bank                   Transmoovers India  Uttar Pradesh   \n",
       "\n",
       "    District sub_district pin_code Gender  Age  aadhaar_generated  \\\n",
       "0  Allahabad         Meja   212303      F    7                  1   \n",
       "1  Sonbhadra  Robertsganj   231213      M    8                  1   \n",
       "2  Sultanpur    Sultanpur   227812      F   13                  1   \n",
       "3     Shamli       Shamli   247775      M    6                  1   \n",
       "4  Gorakhpur     Sahjanwa   273001      M    8                  1   \n",
       "\n",
       "   enrolment_rejected  rp_email  rp_mobileno  \n",
       "0                   0         0            1  \n",
       "1                   0         0            0  \n",
       "2                   0         0            1  \n",
       "3                   0         0            1  \n",
       "4                   0         0            1  "
      ]
     },
     "execution_count": 104,
     "metadata": {},
     "output_type": "execute_result"
    }
   ],
   "source": [
    "import pandas as pd\n",
    "entiredf=pd.read_csv(\"Aadhar.csv\")\n",
    "entiredf=entiredf.rename(columns={'Pin Code': 'pin_code','Sub District':'sub_district','Aadhaar generated':'aadhaar_generated',\n",
    "                                  'Enrolment Rejected':'enrolment_rejected','Residents providing email':'rp_email',\n",
    "                                  'Residents providing mobile number':'rp_mobileno','Enrolment Agency':'enrolment_agency'\n",
    "                                 })\n",
    "entiredf.pin_code=entiredf.pin_code.astype('str') # TO AVOID DtypeWarning: Columns (5)\n",
    "# print(entiredf.iloc[:,5])\n",
    "df=entiredf;\n",
    "entiredf.head()"
   ]
  },
  {
   "cell_type": "code",
   "execution_count": 2,
   "metadata": {},
   "outputs": [
    {
     "data": {
      "text/plain": [
       "37"
      ]
     },
     "execution_count": 2,
     "metadata": {},
     "output_type": "execute_result"
    }
   ],
   "source": [
    "#qn 1\n",
    "len(df.State.unique())"
   ]
  },
  {
   "cell_type": "code",
   "execution_count": 3,
   "metadata": {},
   "outputs": [
    {
     "name": "stdout",
     "output_type": "stream",
     "text": [
      "containing 'An' : ['Andhra Pradesh' 'Andaman and Nicobar Islands']\n",
      "containing double letter :\n",
      " ['Uttar Pradesh' 'Assam' 'Chhattisgarh' 'Jammu and Kashmir' 'Uttarakhand'\n",
      " 'Puducherry' 'Sikkim' 'Lakshadweep']\n"
     ]
    }
   ],
   "source": [
    "#qn 2 \"An\"\n",
    "# def callback(x):\n",
    "    \n",
    "print(\"containing 'An' :\", df.State[df.State.str.startswith('An')].unique())\n",
    "\n",
    "# qn 3 \"double letters\"\n",
    "s=''\n",
    "for i in range(65,91):\n",
    "    s=s+chr(i)+chr(i)+\"|\"+chr(i+32)+chr(i+32)+\"|\"+chr(i)+chr(i+32)+\"|\" # AA,aa,Aa\n",
    "s=s[:-1]\n",
    "print(\"containing double letter :\\n\",df.State[df.State.str.contains(s)].unique())\n",
    "\n",
    "\n"
   ]
  },
  {
   "cell_type": "code",
   "execution_count": 4,
   "metadata": {},
   "outputs": [
    {
     "data": {
      "text/plain": [
       "array(['Uttar Pradesh', 'Assam', 'Karnataka', 'Kerala', 'Madhya Pradesh',\n",
       "       'Maharashtra', 'Telangana', 'Andhra Pradesh', 'Rajasthan',\n",
       "       'West Bengal', 'Andaman and Nicobar Islands', 'Chhattisgarh',\n",
       "       'Jharkhand', 'Tripura', 'Chandigarh', 'Gujarat', 'Haryana',\n",
       "       'Himachal Pradesh', 'Jammu and Kashmir', 'Meghalaya', 'Tamil Nadu',\n",
       "       'Uttarakhand', 'Puducherry', 'Arunachal Pradesh', 'Nagaland',\n",
       "       'Dadra and Nagar Haveli', 'Daman and Diu', 'Sikkim', 'Lakshadweep'],\n",
       "      dtype=object)"
      ]
     },
     "execution_count": 4,
     "metadata": {},
     "output_type": "execute_result"
    }
   ],
   "source": [
    "# qn 4 states where one alphabet will repeat more than one times\n",
    "\n",
    "def func(x):                         # chk repetition based on letter  counts \n",
    "    x=x.replace(\" \",\"\")              # removed whitepace\n",
    "    x=list(x)\n",
    "#     print(len(x))\n",
    "#     print(len(list(dict.fromkeys(x))))\n",
    "    if len(x)==len(list(dict.fromkeys(x))):\n",
    "        return False\n",
    "    else:\n",
    "        return True\n",
    "    \n",
    "\n",
    "df[df.State.map(func)].State.unique()"
   ]
  },
  {
   "cell_type": "code",
   "execution_count": 5,
   "metadata": {},
   "outputs": [
    {
     "data": {
      "text/plain": [
       "array(['Telangana', 'Chhattisgarh', 'Chandigarh'], dtype=object)"
      ]
     },
     "execution_count": 5,
     "metadata": {},
     "output_type": "execute_result"
    }
   ],
   "source": [
    "#qn 5 --last 4th letter g\n",
    "def func(x): # chk repetition based on letter  counts \n",
    "    x=list(x)        \n",
    "    try :\n",
    "        if x[-4]==\"g\":\n",
    "            return True\n",
    "        else:\n",
    "            return False\n",
    "    except :\n",
    "#         print(str(x)+\" has length less than 4\")\n",
    "        return False # value error \n",
    "    \n",
    "\n",
    "      \n",
    "df.State[df.State.map(func)].unique()"
   ]
  },
  {
   "cell_type": "code",
   "execution_count": 6,
   "metadata": {},
   "outputs": [
    {
     "data": {
      "text/plain": [
       "Bihar                          81776\n",
       "Uttar Pradesh                  69476\n",
       "West Bengal                    60485\n",
       "Madhya Pradesh                 37360\n",
       "Rajasthan                      28659\n",
       "Gujarat                        24146\n",
       "Tamil Nadu                     21196\n",
       "Maharashtra                    19783\n",
       "Karnataka                      15755\n",
       "Kerala                         12378\n",
       "Odisha                         11972\n",
       "Jharkhand                       7423\n",
       "Delhi                           7247\n",
       "Uttarakhand                     6521\n",
       "Punjab                          5888\n",
       "Haryana                         5138\n",
       "Chhattisgarh                    4617\n",
       "Andhra Pradesh                  4540\n",
       "Telangana                       3768\n",
       "Mizoram                         3172\n",
       "Assam                           2972\n",
       "Jammu and Kashmir               1331\n",
       "Himachal Pradesh                1283\n",
       "Goa                              799\n",
       "Tripura                          726\n",
       "Arunachal Pradesh                632\n",
       "Manipur                          562\n",
       "Nagaland                         392\n",
       "Meghalaya                        259\n",
       "Chandigarh                       199\n",
       "Dadra and Nagar Haveli           107\n",
       "Daman and Diu                     99\n",
       "Puducherry                        85\n",
       "Sikkim                            48\n",
       "Others                            12\n",
       "Andaman and Nicobar Islands        7\n",
       "Lakshadweep                        5\n",
       "Name: State, dtype: int64"
      ]
     },
     "execution_count": 6,
     "metadata": {},
     "output_type": "execute_result"
    }
   ],
   "source": [
    "# qn 6 . Print total count of states.(Ex: Bihar - 2 \n",
    "df.State.value_counts()"
   ]
  },
  {
   "cell_type": "code",
   "execution_count": 7,
   "metadata": {},
   "outputs": [
    {
     "data": {
      "text/html": [
       "<div>\n",
       "<style scoped>\n",
       "    .dataframe tbody tr th:only-of-type {\n",
       "        vertical-align: middle;\n",
       "    }\n",
       "\n",
       "    .dataframe tbody tr th {\n",
       "        vertical-align: top;\n",
       "    }\n",
       "\n",
       "    .dataframe thead th {\n",
       "        text-align: right;\n",
       "    }\n",
       "</style>\n",
       "<table border=\"1\" class=\"dataframe\">\n",
       "  <thead>\n",
       "    <tr style=\"text-align: right;\">\n",
       "      <th></th>\n",
       "      <th>Registrar</th>\n",
       "      <th>enrolment_agency</th>\n",
       "      <th>State</th>\n",
       "      <th>District</th>\n",
       "      <th>sub_district</th>\n",
       "      <th>pin_code</th>\n",
       "      <th>Gender</th>\n",
       "      <th>Age</th>\n",
       "      <th>aadhaar_generated</th>\n",
       "      <th>enrolment_generated</th>\n",
       "      <th>rp_email</th>\n",
       "      <th>rp_mobileno</th>\n",
       "    </tr>\n",
       "  </thead>\n",
       "  <tbody>\n",
       "    <tr>\n",
       "      <th>4</th>\n",
       "      <td>Allahabad Bank</td>\n",
       "      <td>Transmoovers India</td>\n",
       "      <td>Uttar Pradesh</td>\n",
       "      <td>Gorakhpur</td>\n",
       "      <td>Sahjanwa</td>\n",
       "      <td>273001</td>\n",
       "      <td>M</td>\n",
       "      <td>8</td>\n",
       "      <td>1</td>\n",
       "      <td>0</td>\n",
       "      <td>0</td>\n",
       "      <td>1</td>\n",
       "    </tr>\n",
       "    <tr>\n",
       "      <th>5</th>\n",
       "      <td>Allahabad Bank</td>\n",
       "      <td>Transmoovers India</td>\n",
       "      <td>Uttar Pradesh</td>\n",
       "      <td>Varanasi</td>\n",
       "      <td>Pindra</td>\n",
       "      <td>221101</td>\n",
       "      <td>M</td>\n",
       "      <td>14</td>\n",
       "      <td>1</td>\n",
       "      <td>0</td>\n",
       "      <td>0</td>\n",
       "      <td>1</td>\n",
       "    </tr>\n",
       "    <tr>\n",
       "      <th>6</th>\n",
       "      <td>Allahabad Bank</td>\n",
       "      <td>Transmoovers India</td>\n",
       "      <td>Uttar Pradesh</td>\n",
       "      <td>Varanasi</td>\n",
       "      <td>Varanasi</td>\n",
       "      <td>221001</td>\n",
       "      <td>M</td>\n",
       "      <td>9</td>\n",
       "      <td>1</td>\n",
       "      <td>0</td>\n",
       "      <td>0</td>\n",
       "      <td>1</td>\n",
       "    </tr>\n",
       "    <tr>\n",
       "      <th>7</th>\n",
       "      <td>Allahabad Bank</td>\n",
       "      <td>Transmoovers India</td>\n",
       "      <td>Uttar Pradesh</td>\n",
       "      <td>Varanasi</td>\n",
       "      <td>Varanasi</td>\n",
       "      <td>221002</td>\n",
       "      <td>M</td>\n",
       "      <td>4</td>\n",
       "      <td>1</td>\n",
       "      <td>0</td>\n",
       "      <td>0</td>\n",
       "      <td>1</td>\n",
       "    </tr>\n",
       "    <tr>\n",
       "      <th>8</th>\n",
       "      <td>Allahabad Bank</td>\n",
       "      <td>Transmoovers India</td>\n",
       "      <td>Uttar Pradesh</td>\n",
       "      <td>Varanasi</td>\n",
       "      <td>Varanasi</td>\n",
       "      <td>221002</td>\n",
       "      <td>M</td>\n",
       "      <td>10</td>\n",
       "      <td>0</td>\n",
       "      <td>1</td>\n",
       "      <td>0</td>\n",
       "      <td>1</td>\n",
       "    </tr>\n",
       "  </tbody>\n",
       "</table>\n",
       "</div>"
      ],
      "text/plain": [
       "        Registrar    enrolment_agency          State   District sub_district  \\\n",
       "4  Allahabad Bank  Transmoovers India  Uttar Pradesh  Gorakhpur     Sahjanwa   \n",
       "5  Allahabad Bank  Transmoovers India  Uttar Pradesh   Varanasi       Pindra   \n",
       "6  Allahabad Bank  Transmoovers India  Uttar Pradesh   Varanasi     Varanasi   \n",
       "7  Allahabad Bank  Transmoovers India  Uttar Pradesh   Varanasi     Varanasi   \n",
       "8  Allahabad Bank  Transmoovers India  Uttar Pradesh   Varanasi     Varanasi   \n",
       "\n",
       "  pin_code Gender  Age  aadhaar_generated  enrolment_generated  rp_email  \\\n",
       "4   273001      M    8                  1                    0         0   \n",
       "5   221101      M   14                  1                    0         0   \n",
       "6   221001      M    9                  1                    0         0   \n",
       "7   221002      M    4                  1                    0         0   \n",
       "8   221002      M   10                  0                    1         0   \n",
       "\n",
       "   rp_mobileno  \n",
       "4            1  \n",
       "5            1  \n",
       "6            1  \n",
       "7            1  \n",
       "8            1  "
      ]
     },
     "execution_count": 7,
     "metadata": {},
     "output_type": "execute_result"
    }
   ],
   "source": [
    "#qn 7\n",
    "df[df.enrolment_agency.str.contains(\"India\")].head()"
   ]
  },
  {
   "cell_type": "code",
   "execution_count": 8,
   "metadata": {},
   "outputs": [
    {
     "name": "stdout",
     "output_type": "stream",
     "text": [
      "                                      Registrar  \\\n",
      "0                                Allahabad Bank   \n",
      "163649  CSC e-Governance Services India Limited   \n",
      "163650  CSC e-Governance Services India Limited   \n",
      "163651  CSC e-Governance Services India Limited   \n",
      "163652  CSC e-Governance Services India Limited   \n",
      "\n",
      "                               enrolment_agency           State  \\\n",
      "0                         A-Onerealtors Pvt Ltd   Uttar Pradesh   \n",
      "163649  CSC e-Governance Services India Limited  Andhra Pradesh   \n",
      "163650  CSC e-Governance Services India Limited  Andhra Pradesh   \n",
      "163651  CSC e-Governance Services India Limited  Andhra Pradesh   \n",
      "163652  CSC e-Governance Services India Limited  Andhra Pradesh   \n",
      "\n",
      "             District sub_district pin_code Gender  Age  aadhaar_generated  \\\n",
      "0           Allahabad         Meja   212303      F    7                  1   \n",
      "163649  Ananthapuramu  Gandlapenta   515521      M    1                  1   \n",
      "163650  Ananthapuramu  Peddapappur   515408      M    0                  1   \n",
      "163651  Ananthapuramu  Peddapappur   515445      F    0                  1   \n",
      "163652  Ananthapuramu       Putlur   515414      F    0                  1   \n",
      "\n",
      "        enrolment_generated  rp_email  rp_mobileno  \n",
      "0                         0         0            1  \n",
      "163649                    0         0            1  \n",
      "163650                    0         0            1  \n",
      "163651                    0         0            0  \n",
      "163652                    0         0            1  \n"
     ]
    }
   ],
   "source": [
    "# qn 8 -\n",
    "print(df[df.enrolment_agency.str.contains(\"-\")].head())\n"
   ]
  },
  {
   "cell_type": "code",
   "execution_count": 9,
   "metadata": {},
   "outputs": [
    {
     "name": "stdout",
     "output_type": "stream",
     "text": [
      "114\n"
     ]
    }
   ],
   "source": [
    "#qn 10 pvt limited\n",
    "pvtltd=\"Pvt Ltd|PVT LTD|PRIVATE LTD| LTD|Private Limited|Pvt. Ltd|Limited|Ltd|LIMITED|Private Li|PVTLTD\"\n",
    "sub=df.enrolment_agency[df.enrolment_agency.str.contains(pvtltd)].unique()\n",
    "print(len(sub))\n",
    "# df.enrolment_agency[df.enrolment_agency.str.contains(pvtltd)].unique()\n",
    "supr=df.enrolment_agency.unique()\n",
    "# print(list(set(supr)-set(sub)))"
   ]
  },
  {
   "cell_type": "code",
   "execution_count": 151,
   "metadata": {},
   "outputs": [
    {
     "name": "stdout",
     "output_type": "stream",
     "text": [
      "SGS INDIA PVT LTD\n",
      "Atalji Janasnehi Directorate  GOK\n",
      "CHESSY CONSULTANTS PVT LTD\n",
      "DATASOFT COMPUTER SERVICES(P)\n",
      "OSWAL COMPUTERS & CONSULTANTS\n",
      "PROTEX COMPUTER PVT LTD\n",
      "SARADA SYSTEMS\n",
      "SHRIKRISHNA KHANDASARI SUGAR M\n",
      "SREI INFRASTRUCTURE FINANCES L\n",
      "VEETECHNOLOGIES PVT. LTD\n",
      "AKSH OPTIFIBRE LIMITED\n",
      "APOnline Limited\n",
      "AVVAS INFOTECH PVT  LTD\n",
      "BASIX\n",
      "CALANCE SOFTWARE PRIVATE LTD\n",
      "CHIPS\n",
      "CMS Computers Ltd\n",
      "CSC SPV\n",
      "CSC e-Governance Services India Limited\n",
      "HI-TECH CONTROLS\n",
      "IAP COMPANY Pvt. Ltd\n",
      "IPS e Services Pvt Ltd\n",
      "KDS Services Private Limited\n",
      "MANTRA SOFTTECH (INDIA) PVTLTD\n",
      "MEGHA VINCOM PVT LTD\n",
      "NPS Technologies Pvt. Ltd\n",
      "NVR & ASSOCIATES LIMITED\n",
      "SPANCO\n",
      "SRR Infotech\n",
      "VIKALP MULTIMEDIA\n",
      "VISESH INFOTECNICS LIMITED\n",
      "VISION COMPTECH INTEGRATOR LTD\n",
      "WEBEL TECHNOLOGY LIMITED\n",
      "Yashi Informatics LLP\n",
      "FINANCIAL INFORMATION NETWORK\n",
      "CDPO Tezu ICDS\n",
      "DDSE Lohit\n",
      "DFCSO  Tezu\n",
      "CIRCLE OFFICER PIYONG\n",
      "DSO STAT NAMSAI\n",
      "EAC FI DA CHONGKHAM\n",
      "EAC LEKANG\n",
      "ADC BOLENG\n",
      "CO JOMLO MOBUK\n",
      "EAC OFFICE KAYING/CO PAYUM\n",
      "APEX Services\n",
      "ATISHAY INFOTECH PVT. LTD.\n",
      "BNR UDYOG LIMITED\n",
      "DEVASHISH SECURITIES PVT. LTD.\n",
      "JNET Technologies Pvt.Ltd\n",
      "M/S STAR DATA CENTRE\n",
      "MARS Telecom Systems Pvt Ltd\n",
      "MKS Enterprises\n",
      "Organisation for Development Integrated Social & Health Action  ODISHA\n",
      "VAP INFOSOLUTIONS\n",
      "WEBEL\n",
      "DIT Lakshadweep\n",
      "COMTECH INSTITUTE OFTECHNOLOGY\n",
      "SAR Technology\n",
      "SVG Express Services Pvt Ltd\n",
      "UMC Technologies Pvt. Ltd\n",
      "BHAVANAGAR MC\n",
      "E Seva Society UID Kheda Nadiad\n",
      "E-Seva Society UID Bharuch\n",
      "E-Seva Society UID Patan\n",
      "Jilla e-SEVA Society Devbhoomi Dwarka\n",
      "Jilla e-SEVA society Gir Somnath\n",
      "UID e-Seva Society Ahmedabad\n",
      "e-Seva Society UID Dang\n",
      "Centre for e-Governance  GOK\n",
      "EDCS GOK\n",
      "SETU MAHARASHTRA\n",
      "SILVER JUBILEE MOTORS LTD.\n",
      "Department of Economics Statistics  Monitoring and Evaluation DESME\n",
      "SREEVEN INFOCOM LIMITED\n",
      "Directorate of ESD\n",
      "AISECT Limited\n",
      "BNK Capital Markets Limited\n",
      "LYRA  CONSULTANCY SERVICE\n",
      "MPOnline Limited\n",
      "Computer LAB\n",
      "KRISHNAURAM SHIKSHA EVAM JAN KALYAN SAMITI\n",
      "M/s TAVASYA VENTURE PARTNERS PVT. LTD.\n",
      "RELIGARE SECURITIES LTD\n",
      "SNR Edatas Pvt Ltd\n",
      "SRM Education And Social Welfare Society\n",
      "UNITED DATA SERVICES PRIVATE LIMITED\n",
      "VIRGO SOFTECH LIMITED\n",
      "In Media Computer Services LLP\n",
      "MACRO INFOTECH PVT LTD\n",
      "COMTECHINFO SOLUTIONS PVT.LTD\n",
      "TAMILNADU ARASU CABLE TV CORPORATION LTD\n",
      "RBS multisolutions private limited\n",
      "SRM Techsol Pvt. Ltd.\n",
      "UIDAI-EA\n",
      "Administration of DNH\n"
     ]
    }
   ],
   "source": [
    "# qn 10  ex GOK 3 caps together\n",
    "def func(x): # chk repetition based on conti letter  ASCII value \n",
    "    try:\n",
    "        for i in range(len(x)):\n",
    "            #print(i)\n",
    "            if ord(x[i]) in range(ord(\"A\"),ord(\"Z\")) and  ord(x[i+1]) in range(ord(\"A\"),ord(\"Z\")) \\\n",
    "                                                     and  ord(x[i+2]) in range(ord(\"A\"),ord(\"Z\")):\n",
    "                return True\n",
    "    except :\n",
    "        return False\n",
    "\n",
    "\n",
    "    \n",
    "      \n",
    "# df.enrolment_agency[df.enrolment_agency.map(func)].head()\n",
    "uniq=df.enrolment_agency.unique()\n",
    "for i in uniq:\n",
    "    if func(i)== True:\n",
    "        print(i)"
   ]
  },
  {
   "cell_type": "code",
   "execution_count": 11,
   "metadata": {},
   "outputs": [
    {
     "data": {
      "text/plain": [
       "0                                         Allahabad Bank\n",
       "1                                         Allahabad Bank\n",
       "2                                         Allahabad Bank\n",
       "3                                         Allahabad Bank\n",
       "4                                         Allahabad Bank\n",
       "                               ...                      \n",
       "440813    Women and Child Development Govt. of Jharkhand\n",
       "440814    Women and Child Development Govt. of Jharkhand\n",
       "440815    Women and Child Development Govt. of Jharkhand\n",
       "440816    Women and Child Development Govt. of Jharkhand\n",
       "440817    Women and Child Development Govt. of Jharkhand\n",
       "Name: Registrar, Length: 440818, dtype: object"
      ]
     },
     "execution_count": 11,
     "metadata": {},
     "output_type": "execute_result"
    }
   ],
   "source": [
    "# .11 Print all the rows from the registrar column where state name is available.(Ex: -Atalji Janasnehi DirectorateGovernment of Karnatak\n",
    "\n",
    "df.Registrar[df.State.notnull()]"
   ]
  },
  {
   "cell_type": "code",
   "execution_count": 12,
   "metadata": {},
   "outputs": [
    {
     "name": "stdout",
     "output_type": "stream",
     "text": [
      "State\n",
      "Andaman and Nicobar Islands        7\n",
      "Andhra Pradesh                  4540\n",
      "Arunachal Pradesh                632\n",
      "Assam                           2972\n",
      "Bihar                          81776\n",
      "Chandigarh                       199\n",
      "Chhattisgarh                    4617\n",
      "Dadra and Nagar Haveli           107\n",
      "Daman and Diu                     99\n",
      "Delhi                           7247\n",
      "Goa                              799\n",
      "Gujarat                        24146\n",
      "Haryana                         5138\n",
      "Himachal Pradesh                1283\n",
      "Jammu and Kashmir               1331\n",
      "Jharkhand                       7423\n",
      "Karnataka                      15755\n",
      "Kerala                         12378\n",
      "Lakshadweep                        5\n",
      "Madhya Pradesh                 37360\n",
      "Maharashtra                    19783\n",
      "Manipur                          562\n",
      "Meghalaya                        259\n",
      "Mizoram                         3172\n",
      "Nagaland                         392\n",
      "Odisha                         11972\n",
      "Others                            12\n",
      "Puducherry                        85\n",
      "Punjab                          5888\n",
      "Rajasthan                      28659\n",
      "Sikkim                            48\n",
      "Tamil Nadu                     21196\n",
      "Telangana                       3768\n",
      "Tripura                          726\n",
      "Uttar Pradesh                  69476\n",
      "Uttarakhand                     6521\n",
      "West Bengal                    60485\n",
      "Name: State, dtype: int64\n",
      "\n",
      "Max dist : Bihar\n",
      "Min dist : Lakshadweep\n"
     ]
    }
   ],
   "source": [
    "#12. Print total count of District in state wise and find which state having maximum and minimu district\n",
    "print(df.groupby(\"State\").State.count())\n",
    "print(\"\\nMax dist :\",df.groupby(\"State\").State.count().idxmax())\n",
    "print(\"Min dist :\",df.groupby(\"State\").State.count().idxmin())\n",
    "\n"
   ]
  },
  {
   "cell_type": "code",
   "execution_count": 13,
   "metadata": {},
   "outputs": [
    {
     "data": {
      "text/plain": [
       "2    Sultanpur\n",
       "3       Shamli\n",
       "6     Varanasi\n",
       "7     Varanasi\n",
       "8     Varanasi\n",
       "Name: District, dtype: object"
      ]
     },
     "execution_count": 13,
     "metadata": {},
     "output_type": "execute_result"
    }
   ],
   "source": [
    "#13. Print all the rows from the column district and sub district which contain the common name.\n",
    "\n",
    "df.District[df.District==df.sub_district].head()\n"
   ]
  },
  {
   "cell_type": "code",
   "execution_count": 14,
   "metadata": {},
   "outputs": [
    {
     "data": {
      "text/plain": [
       "0         212303\n",
       "4         273001\n",
       "5         221101\n",
       "6         221001\n",
       "7         221002\n",
       "           ...  \n",
       "440789    832105\n",
       "440808    829206\n",
       "440809    835302\n",
       "440810    835302\n",
       "440817    834002\n",
       "Name: pin_code, Length: 280627, dtype: object"
      ]
     },
     "execution_count": 14,
     "metadata": {},
     "output_type": "execute_result"
    }
   ],
   "source": [
    "#14 Print all the pincode which contains at lest one zero (0).\n",
    "# print(type(df.pin_code[0]))\n",
    "df.pin_code[df.pin_code.str.contains(\"0\")]"
   ]
  },
  {
   "cell_type": "code",
   "execution_count": 15,
   "metadata": {},
   "outputs": [
    {
     "data": {
      "text/plain": [
       "4         273001\n",
       "6         221001\n",
       "7         221002\n",
       "8         221002\n",
       "9         221002\n",
       "           ...  \n",
       "440715    248007\n",
       "440716    248007\n",
       "440717    248007\n",
       "440776    700061\n",
       "440817    834002\n",
       "Name: pin_code, Length: 74216, dtype: object"
      ]
     },
     "execution_count": 15,
     "metadata": {},
     "output_type": "execute_result"
    }
   ],
   "source": [
    "#15. Print all the pincode which contains two zero(0) together\n",
    "df.pin_code[df.pin_code.str.contains(\"00\")]"
   ]
  },
  {
   "cell_type": "code",
   "execution_count": 16,
   "metadata": {},
   "outputs": [
    {
     "data": {
      "text/plain": [
       "pin_code    854317\n",
       "count          723\n",
       "Name: 0, dtype: object"
      ]
     },
     "execution_count": 16,
     "metadata": {},
     "output_type": "execute_result"
    }
   ],
   "source": [
    "#16. Print Maximum count of pincode wise.\n",
    "x=df['pin_code'].value_counts() # series to df for fun\n",
    "pd.DataFrame({'pin_code':x.index, 'count':x.values}).iloc[0]"
   ]
  },
  {
   "cell_type": "code",
   "execution_count": 122,
   "metadata": {},
   "outputs": [
    {
     "name": "stdout",
     "output_type": "stream",
     "text": [
      "State with max no of Males having aadhar    : Bihar\n",
      "State with min no of Males having aadhar    : Andaman and Nicobar Islands\n",
      "State with max no of FeMales having aadhar  : Bihar\n",
      "State with min no of FeMales having aadhar  : Lakshadweep\n"
     ]
    }
   ],
   "source": [
    "#17. Print which state having maximum and minimum aadhar card for Male and Female.\n",
    "# def aadhgen0rem(x):\n",
    "#     if  str(x)=='0': # forgot data type\n",
    "#         return False\n",
    "#     else:\n",
    "#         return True\n",
    "\n",
    "# t_df=df[df.aadhaar_generated.map(aadhgen0rem)] # remove cases of aaadhar generated = 0\n",
    "\n",
    "t_df=df\n",
    "t_df=t_df.groupby([\"State\",\"Gender\"]).count()\n",
    "print(\"State with max no of Males having aadhar    :\",t_df.aadhaar_generated.loc[:,\"M\"].idxmax())\n",
    "print(\"State with min no of Males having aadhar    :\",t_df.aadhaar_generated.loc[:,\"M\"].idxmin())\n",
    "print(\"State with max no of FeMales having aadhar  :\",t_df.aadhaar_generated.loc[:,\"F\"].idxmax())\n",
    "print(\"State with min no of FeMales having aadhar  :\",t_df.aadhaar_generated.loc[:,\"F\"].idxmin())"
   ]
  },
  {
   "cell_type": "code",
   "execution_count": 42,
   "metadata": {},
   "outputs": [
    {
     "name": "stdout",
     "output_type": "stream",
     "text": [
      "Total count is : 294392\n"
     ]
    }
   ],
   "source": [
    "#18 Print total count of aadhar card where age is < 10 and between 20 to 40.\n",
    "\n",
    "# and frequency  20 and 40 is very low \n",
    "# print( df[  (df.Age < 10)   |   (  (df.Age > 20)&(df.Age < 40)  )   ])\n",
    "           \n",
    "total=df[ (df.Age < 10)   |   (  (df.Age > 20)&(df.Age < 40)  )  ].Age.value_counts()\n",
    "\n",
    "total=total.sum()\n",
    "print(\"Total count is :\",total)"
   ]
  },
  {
   "cell_type": "code",
   "execution_count": 102,
   "metadata": {},
   "outputs": [
    {
     "name": "stdout",
     "output_type": "stream",
     "text": [
      "Districts with min age =\n",
      " District\n",
      "Adilabad      0\n",
      "Agra          0\n",
      "Ahmadnagar    0\n",
      "Ahmedabad     0\n",
      "Ajmer         0\n",
      "Name: Age, dtype: int64\n",
      "\n",
      "\n",
      "District with min average year is North And Middle Andaman  with average age = 2.3333333333333335\n"
     ]
    }
   ],
   "source": [
    "# 19. Print the District name where age is lower.\n",
    "_min=df.Age.min()\n",
    "print(\"Districts with min age =\\n\",df[df.Age==_min].groupby(\"District\").Age.min().head())\n",
    "# the min age is 0 yrs\n",
    "print(\"\\n\\nDistrict with min average year is\",df.groupby([\"District\"]).Age.mean().idxmin(),\n",
    "      \" with average age =\",df.groupby([\"District\"]).Age.mean().min())\n",
    "# must 2.333??? -- toomany entries"
   ]
  },
  {
   "cell_type": "code",
   "execution_count": 103,
   "metadata": {},
   "outputs": [
    {
     "data": {
      "text/plain": [
       "'Budaun'"
      ]
     },
     "execution_count": 103,
     "metadata": {},
     "output_type": "execute_result"
    }
   ],
   "source": [
    "#20. Print the district which generated maximum no of aadhar card from the column Aadhar Generated.\n",
    "df.iloc[df.aadhaar_generated.idxmax()].District\n"
   ]
  },
  {
   "cell_type": "code",
   "execution_count": 123,
   "metadata": {},
   "outputs": [
    {
     "name": "stdout",
     "output_type": "stream",
     "text": [
      "Max rejected State: Bihar\n",
      "Min rejected State: Others\n"
     ]
    }
   ],
   "source": [
    "#21. Print in which state maximum and minimum enrolment has rejected from the column Enrolment rejected.\n",
    "print(\"Max rejected State:\",df.groupby([\"State\"]).enrolment_rejected.sum().idxmax())\n",
    "print(\"Min rejected State:\",df.groupby([\"State\"]).enrolment_rejected.sum().idxmin())\n"
   ]
  },
  {
   "cell_type": "code",
   "execution_count": 144,
   "metadata": {},
   "outputs": [
    {
     "name": "stdout",
     "output_type": "stream",
     "text": [
      "Total people  440818\n",
      "Phone number provided : 328189.0\n",
      "Phone number not provided : 112629.0\n"
     ]
    }
   ],
   "source": [
    "#22. Count all the value of 0 and 1 from the last column so that it will shows how many has given the mobile no in the time of enrolment.\n",
    "# resident provided mobile no\n",
    "# lambda x : x*2 if x < 10 else (x*3 if x < 20 else x)\n",
    "t_df=df.rp_mobileno.apply(lambda x : x/x if x !=0 else 0)\n",
    "print(\"Total people \",len(t_df))\n",
    "print(\"Phone number provided :\",t_df.sum())\n",
    "print(\"Phone number not provided :\",t_df.count()-t_df.sum())"
   ]
  },
  {
   "cell_type": "code",
   "execution_count": 145,
   "metadata": {},
   "outputs": [
    {
     "data": {
      "text/plain": [
       "440818.0"
      ]
     },
     "execution_count": 145,
     "metadata": {},
     "output_type": "execute_result"
    }
   ],
   "source": []
  }
 ],
 "metadata": {
  "kernelspec": {
   "display_name": "Python 3",
   "language": "python",
   "name": "python3"
  },
  "language_info": {
   "codemirror_mode": {
    "name": "ipython",
    "version": 3
   },
   "file_extension": ".py",
   "mimetype": "text/x-python",
   "name": "python",
   "nbconvert_exporter": "python",
   "pygments_lexer": "ipython3",
   "version": "3.8.5"
  }
 },
 "nbformat": 4,
 "nbformat_minor": 4
}
