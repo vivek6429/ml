{
 "cells": [
  {
   "cell_type": "code",
   "execution_count": 1,
   "metadata": {},
   "outputs": [],
   "source": [
    "import numpy as np\n",
    "import pandas as pd\n",
    "from sklearn.model_selection import train_test_split"
   ]
  },
  {
   "cell_type": "code",
   "execution_count": 2,
   "metadata": {},
   "outputs": [],
   "source": [
    "diab_file_loc=\"Diabates/Diabetes.csv\"\n",
    "\n",
    "col_names = ['pregnant', 'glucose', 'bp', 'skin', 'insulin', 'bmi', 'pedigree', 'age', 'label']\n",
    "pima = pd.read_csv(diab_file_loc, header=1, names=col_names)\n",
    "\n",
    "feature_cols = ['pregnant', 'insulin', 'bmi', 'age','glucose','bp','pedigree']\n",
    "X = pima[feature_cols] # Features\n",
    "y = pima.label # Target variable\n",
    "X_train, X_test, y_train, y_test = train_test_split(X, y, test_size=0.3, random_state=1)\n"
   ]
  },
  {
   "cell_type": "code",
   "execution_count": 3,
   "metadata": {},
   "outputs": [
    {
     "data": {
      "text/plain": [
       "array([0.98419185, 0.33341227, 0.67370162, 0.19639042, 0.35444646,\n",
       "       0.81336595, 0.24784955])"
      ]
     },
     "execution_count": 3,
     "metadata": {},
     "output_type": "execute_result"
    }
   ],
   "source": [
    "np.random.seed(56)  #random.seed function so that we can get the same random values whenever the script is executed.\n",
    "weights = np.random.rand(7) # 7 features\n",
    "bias = np.random.rand(1)  \n",
    "lr = 0.05 \n",
    "weights"
   ]
  },
  {
   "cell_type": "code",
   "execution_count": 4,
   "metadata": {},
   "outputs": [],
   "source": [
    "# activation function and its derivative (for the optimization problem)\n",
    "def sigmoid(x): \n",
    "    return 1/(1+np.exp(-x))\n",
    "def sigmoid_der(x):   \n",
    "    return sigmoid(x)*(1-sigmoid(x))"
   ]
  },
  {
   "cell_type": "code",
   "execution_count": 5,
   "metadata": {},
   "outputs": [
    {
     "name": "stdout",
     "output_type": "stream",
     "text": [
      "342.0\n",
      "-194.0\n",
      "-191.0\n",
      "342.0\n",
      "-194.0\n",
      "342.0\n",
      "-194.0\n"
     ]
    },
    {
     "name": "stderr",
     "output_type": "stream",
     "text": [
      "/home/victor/.local/lib/python3.8/site-packages/pandas/core/series.py:679: RuntimeWarning: overflow encountered in exp\n",
      "  result = getattr(ufunc, method)(*inputs, **kwargs)\n"
     ]
    },
    {
     "name": "stdout",
     "output_type": "stream",
     "text": [
      "342.0\n",
      "-194.0\n",
      "340.0\n",
      "-194.0\n",
      "340.0\n",
      "-194.0\n",
      "329.0\n",
      "-194.0\n",
      "240.99999987589536\n",
      "-188.0\n",
      "336.0\n",
      "-194.0\n",
      "285.99956810022945\n",
      "-193.0\n",
      "304.0\n",
      "-193.0\n",
      "274.00000059121805\n",
      "-191.0\n",
      "317.0\n",
      "-193.0\n",
      "260.0\n",
      "-191.0\n",
      "325.0\n",
      "-193.0\n",
      "270.0\n",
      "-191.0\n",
      "314.99999999993986\n",
      "-193.0\n",
      "271.0\n",
      "-192.0\n",
      "312.00001261071407\n",
      "-193.0\n",
      "287.0000329375779\n",
      "-191.0\n",
      "296.0\n",
      "-193.0\n",
      "291.0\n",
      "-192.0\n",
      "295.0\n",
      "-192.0\n",
      "290.0\n",
      "-192.0\n",
      "295.0\n",
      "-190.0\n",
      "290.0\n",
      "-188.0\n",
      "290.0\n",
      "-185.9999999999922\n",
      "287.0\n",
      "-175.0\n",
      "265.0\n",
      "-169.0\n",
      "285.0000000000091\n",
      "-173.9991858765536\n",
      "265.99999999999625\n",
      "-170.0\n",
      "288.0\n",
      "-171.0\n",
      "262.0\n",
      "-169.0\n",
      "288.0000000738519\n",
      "-171.0\n",
      "262.0\n",
      "-169.0\n",
      "288.0\n",
      "-171.0\n",
      "262.0\n",
      "-169.0\n",
      "288.9704456608297\n",
      "-171.0\n",
      "261.0\n",
      "-170.0\n",
      "291.0\n",
      "-171.0\n",
      "261.00004136285054\n",
      "-169.0\n",
      "288.0\n",
      "-171.0\n",
      "262.0\n",
      "-169.0\n",
      "288.0\n",
      "-171.0\n",
      "261.99999335221776\n",
      "-169.0\n",
      "288.0\n",
      "-171.0\n",
      "262.0\n",
      "-170.0\n",
      "288.9999999999998\n",
      "-171.0\n",
      "264.9994976554917\n",
      "-169.0\n",
      "283.0\n"
     ]
    }
   ],
   "source": [
    "# the Training\n",
    "for epoch in range(100):\n",
    "    inputs=X_train\n",
    "    #      FEED FORWARD \n",
    "    # find dot product for feed forward\n",
    "    #  step1\n",
    "    XW = X_train.dot(weights) + bias\n",
    "    # Now comes the acivation function to squash the value to 0 and 1\n",
    "    #  step2\n",
    "    z  = sigmoid(XW)\n",
    "    # predicted ops at z\n",
    "    \n",
    "    # now   BACK PROPOGATION\n",
    "    # step1 find the cost\n",
    "    error = z - y_train # predicted - observed \n",
    "    print(error.sum())\n",
    "    # step 2\n",
    "    dcost_dpred=error\n",
    "    dpred_dz=sigmoid_der(z)\n",
    "#     z_delta = dcost_dpred * dpred_dz\n",
    "    z_delta = dcost_dpred.mul(dpred_dz)\n",
    "    inputs=X_train.transpose()\n",
    "    weights -= lr * inputs.dot(z_delta)\n",
    "    \n",
    "    for num in z_delta:\n",
    "            bias -= lr * num\n"
   ]
  },
  {
   "cell_type": "code",
   "execution_count": 13,
   "metadata": {},
   "outputs": [
    {
     "name": "stdout",
     "output_type": "stream",
     "text": [
      "pregnant    134.731549\n",
      "insulin      52.884100\n",
      "bmi        -108.668743\n",
      "age         -10.031663\n",
      "glucose      45.716983\n",
      "bp         -700.091324\n",
      "pedigree      6.364799\n",
      "dtype: float64\n",
      "[-26.38776135]\n",
      "285    0.0\n",
      "101    0.0\n",
      "581    0.0\n",
      "352    0.0\n",
      "632    0.0\n",
      "      ... \n",
      "241    0.0\n",
      "599    0.0\n",
      "649    0.0\n",
      "11     0.0\n",
      "214    0.0\n",
      "Length: 231, dtype: float64\n"
     ]
    },
    {
     "data": {
      "text/plain": [
       "numpy.ndarray"
      ]
     },
     "execution_count": 13,
     "metadata": {},
     "output_type": "execute_result"
    }
   ],
   "source": [
    "print(weights)\n",
    "print(bias)\n",
    "result=sigmoid(X_test.dot(weights)+bias)\n",
    "print(result)\n",
    "# print(result)\n",
    "# print(y_test)\n",
    "from sklearn.metrics import accuracy_score\n",
    "accuracy_score(y_test, result.round())\n",
    "weights.index\n",
    "type(bias)\n"
   ]
  }
 ],
 "metadata": {
  "kernelspec": {
   "display_name": "Python 3",
   "language": "python",
   "name": "python3"
  },
  "language_info": {
   "codemirror_mode": {
    "name": "ipython",
    "version": 3
   },
   "file_extension": ".py",
   "mimetype": "text/x-python",
   "name": "python",
   "nbconvert_exporter": "python",
   "pygments_lexer": "ipython3",
   "version": "3.8.5"
  }
 },
 "nbformat": 4,
 "nbformat_minor": 4
}
