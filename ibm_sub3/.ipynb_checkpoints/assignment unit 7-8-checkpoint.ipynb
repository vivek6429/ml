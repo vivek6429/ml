{
 "cells": [
  {
   "cell_type": "code",
   "execution_count": null,
   "metadata": {},
   "outputs": [],
   "source": [
    "# Recommendation engine with gui using python and ml\n",
    "# gui for neural network and decision tree\n"
   ]
  },
  {
   "cell_type": "code",
   "execution_count": 60,
   "metadata": {},
   "outputs": [
    {
     "name": "stderr",
     "output_type": "stream",
     "text": [
      "/home/victor/.local/lib/python3.8/site-packages/numpy/lib/function_base.py:2526: RuntimeWarning: Degrees of freedom <= 0 for slice\n",
      "  c = cov(x, y, rowvar)\n",
      "/home/victor/.local/lib/python3.8/site-packages/numpy/lib/function_base.py:2455: RuntimeWarning: divide by zero encountered in true_divide\n",
      "  c *= np.true_divide(1, fact)\n"
     ]
    },
    {
     "data": {
      "text/html": [
       "<div>\n",
       "<style scoped>\n",
       "    .dataframe tbody tr th:only-of-type {\n",
       "        vertical-align: middle;\n",
       "    }\n",
       "\n",
       "    .dataframe tbody tr th {\n",
       "        vertical-align: top;\n",
       "    }\n",
       "\n",
       "    .dataframe thead th {\n",
       "        text-align: right;\n",
       "    }\n",
       "</style>\n",
       "<table border=\"1\" class=\"dataframe\">\n",
       "  <thead>\n",
       "    <tr style=\"text-align: right;\">\n",
       "      <th></th>\n",
       "      <th>correlation</th>\n",
       "      <th>rating_counts</th>\n",
       "    </tr>\n",
       "    <tr>\n",
       "      <th>title</th>\n",
       "      <th></th>\n",
       "      <th></th>\n",
       "    </tr>\n",
       "  </thead>\n",
       "  <tbody>\n",
       "    <tr>\n",
       "      <th>Forrest Gump (1994)</th>\n",
       "      <td>1.000000</td>\n",
       "      <td>329</td>\n",
       "    </tr>\n",
       "    <tr>\n",
       "      <th>Mr. Holland's Opus (1995)</th>\n",
       "      <td>0.652144</td>\n",
       "      <td>80</td>\n",
       "    </tr>\n",
       "    <tr>\n",
       "      <th>Pocahontas (1995)</th>\n",
       "      <td>0.550118</td>\n",
       "      <td>68</td>\n",
       "    </tr>\n",
       "    <tr>\n",
       "      <th>Grumpier Old Men (1995)</th>\n",
       "      <td>0.534682</td>\n",
       "      <td>52</td>\n",
       "    </tr>\n",
       "    <tr>\n",
       "      <th>Caddyshack (1980)</th>\n",
       "      <td>0.520328</td>\n",
       "      <td>52</td>\n",
       "    </tr>\n",
       "  </tbody>\n",
       "</table>\n",
       "</div>"
      ],
      "text/plain": [
       "                           correlation  rating_counts\n",
       "title                                                \n",
       "Forrest Gump (1994)           1.000000            329\n",
       "Mr. Holland's Opus (1995)     0.652144             80\n",
       "Pocahontas (1995)             0.550118             68\n",
       "Grumpier Old Men (1995)       0.534682             52\n",
       "Caddyshack (1980)             0.520328             52"
      ]
     },
     "execution_count": 60,
     "metadata": {},
     "output_type": "execute_result"
    }
   ],
   "source": [
    "# boiling it down \n",
    "import numpy as np\n",
    "import pandas as pd\n",
    "\n",
    "raitingfile_loc=\"ML REC engine/ratings.csv\"\n",
    "moviefile_loc=\"ML REC engine/movies.csv\"\n",
    "\n",
    "ratings_data = pd.read_csv(raitingfile_loc)\n",
    "movie_names = pd.read_csv(moviefile_loc)\n",
    "movie_data = pd.merge(ratings_data, movie_names, on='movieId')\n",
    "ratings_mean_count=pd.DataFrame(movie_data.groupby('title')['rating'].mean())\n",
    "ratings_mean_count['rating_counts']=pd.DataFrame(movie_data.groupby('title')['rating'].count())\n",
    "user_movie_rating=movie_data.pivot_table(index='userId',columns='title',values='rating')\n",
    "\n",
    "\n",
    "# movie specific \n",
    "#finding user rating of one movie\n",
    "inputname='Forrest Gump (1994)'\n",
    "raiting_count=50\n",
    "\n",
    "input_movie_ratings = user_movie_rating['Forrest Gump (1994)']\n",
    "movieslike_input_movie=user_movie_rating.corrwith(input_movie_ratings)\n",
    "corr_input_movie=pd.DataFrame(movieslike_input_movie,columns=['correlation'])\n",
    "corr_input_movie.dropna(inplace=True)\n",
    "corr_input_movie = corr_input_movie.join(ratings_mean_count['rating_counts'])\n",
    "corr_input_movie[corr_input_movie ['rating_counts']>raiting_count].sort_values('correlation', ascending=False).head()"
   ]
  },
  {
   "cell_type": "code",
   "execution_count": null,
   "metadata": {},
   "outputs": [],
   "source": [
    "# Decision tree"
   ]
  }
 ],
 "metadata": {
  "kernelspec": {
   "display_name": "Python 3",
   "language": "python",
   "name": "python3"
  },
  "language_info": {
   "codemirror_mode": {
    "name": "ipython",
    "version": 3
   },
   "file_extension": ".py",
   "mimetype": "text/x-python",
   "name": "python",
   "nbconvert_exporter": "python",
   "pygments_lexer": "ipython3",
   "version": "3.8.5"
  }
 },
 "nbformat": 4,
 "nbformat_minor": 4
}
