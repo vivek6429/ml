{
 "cells": [
  {
   "cell_type": "code",
   "execution_count": null,
   "metadata": {},
   "outputs": [],
   "source": [
    "import tensorflow as tf\n",
    "\n",
    "# Create tensor\n",
    "\n",
    "with tf.compat.v1.Session() as sec:\n",
    "    hello = tf.strings.join([\"Hello, World\"])\n",
    "\n",
    "# Launch session\n",
    "\n",
    "sess = tf.compat.v1.Session()\n",
    "\n",
    "print(sess.run(hello))\n"
   ]
  },
  {
   "cell_type": "code",
   "execution_count": null,
   "metadata": {},
   "outputs": [],
   "source": [
    "\n",
    "import tensorflow.compat.v1 as tf\n",
    "tf.disable_v2_behavior()\n",
    "\n",
    "# Create tensor\n",
    "\n",
    "hello = tf.strings.join([\"Hello, World\"])\n",
    "\n",
    "# Launch session\n",
    "\n",
    "sess = tf.compat.v1.Session()\n",
    "\n",
    "print(sess.run(hello))\n"
   ]
  },
  {
   "cell_type": "code",
   "execution_count": null,
   "metadata": {},
   "outputs": [],
   "source": [
    "a = tf.constant(2.0)\n",
    "b = tf.constant(2.0)\n",
    "c = a * b\n",
    "sess = tf.compat.v1.Session()\n",
    "print(sess.run(c))"
   ]
  },
  {
   "cell_type": "code",
   "execution_count": null,
   "metadata": {},
   "outputs": [],
   "source": [
    "import numpy as np\n",
    "a = tf.placeholder(np.float32)\n",
    "b = tf.placeholder(np.float32)\n",
    "c= a+b\n",
    "sess = tf.Session()\n",
    "\n",
    "#initialize all variables\n",
    "\n",
    "sess.run(tf.initialize_all_variables())\n",
    "feed_dict = {a:2, b:3}\n",
    "#now run the sum operation\n",
    "ppx = sess.run([c], feed_dict)\n",
    "\n",
    "#print the result\n",
    "print(ppx)\n",
    "\n"
   ]
  },
  {
   "cell_type": "code",
   "execution_count": 19,
   "metadata": {},
   "outputs": [
    {
     "data": {
      "text/plain": [
       "42"
      ]
     },
     "execution_count": 19,
     "metadata": {},
     "output_type": "execute_result"
    }
   ],
   "source": [
    "import numpy as np\n",
    "import tensorflow as tf\n",
    "@tf.function\n",
    "def sum_even(items):\n",
    "    s = 0\n",
    "    for c in items:\n",
    "        if tf.equal(c % 2, 0):\n",
    "            s += c\n",
    "    return s\n",
    "sum_even(tf.constant([10, 12, 15, 20])).numpy()\n",
    "\n",
    "\n"
   ]
  },
  {
   "cell_type": "code",
   "execution_count": null,
   "metadata": {},
   "outputs": [],
   "source": []
  },
  {
   "cell_type": "code",
   "execution_count": 54,
   "metadata": {},
   "outputs": [
    {
     "name": "stdout",
     "output_type": "stream",
     "text": [
      "Tensor(\"case_14/cond/Merge:0\", shape=(), dtype=int32)\n"
     ]
    }
   ],
   "source": [
    "import tensorflow.compat.v1 as tf\n",
    "tf.disable_v2_behavior()\n",
    "x=tf.constant(22) #= tf.constant(int(input(\"enter number :\")))\n",
    "y =tf.constant(2)#= tf.constant(int(input(\"enter number :\")))\n",
    "z =tf.constant(23)\n",
    "# z =tf.constant(int(input(\"1*2/3+4-\")) )\n",
    "# def f1(): return tf.constant(17)\n",
    "\n",
    "# r = tf.case([(tf.equal(z,1), f1)],default=f3, exclusive=True)\n",
    "\n",
    "def f1(): return tf.sum(x,y)\n",
    "def f2(): return tf\n",
    "def f3(): return tf.constant(-1)\n",
    "r = tf.case([(tf.less(x, y), f1), (tf.greater(x, z), f2)],\n",
    "         default=f3, exclusive=True)\n",
    "print(r)"
   ]
  },
  {
   "cell_type": "code",
   "execution_count": 89,
   "metadata": {},
   "outputs": [
    {
     "name": "stdout",
     "output_type": "stream",
     "text": [
      " 1 \t * \n",
      " 2 \t + \n",
      " 3 \t -\n",
      "1\n",
      "\n",
      " result= 484\n"
     ]
    }
   ],
   "source": [
    "import tensorflow.compat.v1 as tf\n",
    "#x= tf.constant(int(input(\"enter number :\")))\n",
    "#y= tf.constant(int(input(\"enter number :\")))\n",
    "x=tf.constant(22)\n",
    "y=tf.constant(22)\n",
    "\n",
    "def f1(): return tf.multiply(x,y)\n",
    "def f2(): return tf.add(x,y)\n",
    "def f3(): return tf.subtract(x,y)\n",
    "\n",
    "ip=int(input(\" 1 \\t * \\n 2 \\t + \\n 3 \\t -\\n\"))-1\n",
    "branch_index=tf.constant(ip)\n",
    "# print(branch_index)\n",
    "\n",
    "switch = tf.switch_case(branch_index, branch_fns={0: f1, 1: f2}, default=f3)\n",
    "sess = tf.Session()\n",
    "res=sess.run(switch)\n",
    "print(\"\\n result=\",res)"
   ]
  },
  {
   "cell_type": "code",
   "execution_count": 90,
   "metadata": {},
   "outputs": [
    {
     "name": "stdout",
     "output_type": "stream",
     "text": [
      "Tensor(\"Const_167:0\", shape=(3,), dtype=int32)\n",
      "Tensor(\"Const_168:0\", shape=(2, 3), dtype=float32)\n",
      "\n",
      "########################\n",
      "\n",
      "Tensor(\"Const_169:0\", shape=(3, 3), dtype=int32)\n",
      "[[1 2 3]\n",
      " [4 5 6]\n",
      " [7 8 9]]\n",
      "\n",
      "########################\n",
      "\n",
      "Tensor(\"Const_170:0\", shape=(2,), dtype=string)\n",
      "\n",
      "########################\n",
      "\n",
      "Tensor(\"Const_171:0\", shape=(5,), dtype=float32)\n",
      "[15.5 20.5 35.5 40.1 80.5]\n",
      "\n",
      "########################\n",
      "\n"
     ]
    }
   ],
   "source": [
    "import tensorflow as tf\n",
    "\n",
    "t1 = tf.constant([1, 2, 3])\n",
    "t2 = tf.constant([[1.1, 2.2, 3.3], [4, 5, 6]])\n",
    "t3 = tf.constant([[1, 2, 3], [4, 5, 6], [7, 8, 9]])\n",
    "t4 = tf.constant([\"India\", \"Australia\"])\n",
    "t5 = tf.constant([15.5, 20.5, 35.5, 40.1, 80.5])\n",
    "\n",
    "sess = tf.compat.v1.Session()\n",
    " \n",
    "print(t1)\n",
    "print(t2)\n",
    " \n",
    "print(\"\\n########################\\n\")\n",
    "print(t3)\n",
    "print(sess.run(t3))\n",
    "print(\"\\n########################\\n\")\n",
    " \n",
    "print(t4)\n",
    " \n",
    "print(\"\\n########################\\n\")\n",
    "print(t5)\n",
    "print(sess.run(t5))\n",
    "print(\"\\n########################\\n\")\n"
   ]
  },
  {
   "cell_type": "code",
   "execution_count": 92,
   "metadata": {},
   "outputs": [
    {
     "name": "stdout",
     "output_type": "stream",
     "text": [
      "Tensor(\"zeros_1:0\", shape=(3,), dtype=float32)\n",
      "Tensor(\"ZeroTensor_1:0\", shape=(3,), dtype=int32)\n",
      "Tensor(\"4X-ZeroTensor_1:0\", shape=(4, 4, 4), dtype=int8)\n",
      "[[[0 0 0 0]\n",
      "  [0 0 0 0]\n",
      "  [0 0 0 0]\n",
      "  [0 0 0 0]]\n",
      "\n",
      " [[0 0 0 0]\n",
      "  [0 0 0 0]\n",
      "  [0 0 0 0]\n",
      "  [0 0 0 0]]\n",
      "\n",
      " [[0 0 0 0]\n",
      "  [0 0 0 0]\n",
      "  [0 0 0 0]\n",
      "  [0 0 0 0]]\n",
      "\n",
      " [[0 0 0 0]\n",
      "  [0 0 0 0]\n",
      "  [0 0 0 0]\n",
      "  [0 0 0 0]]]\n"
     ]
    }
   ],
   "source": [
    "# TensorFlow program to create tensor using zeros function.\n",
    " \n",
    "from __future__ import absolute_import\n",
    "from __future__ import division\n",
    "from __future__ import print_function\n",
    " \n",
    "import tensorflow as tf\n",
    "zero_tensor = tf.zeros([3])\n",
    "zero_tensor_int = tf.zeros([3], tf.int32, 'ZeroTensor')\n",
    "zero_tensor_4x_4x_4x = tf.zeros([4, 4, 4], tf.int8, '4X-ZeroTensor')\n",
    " \n",
    "print(zero_tensor)\n",
    "print(zero_tensor_int)\n",
    "print(zero_tensor_4x_4x_4x)\n",
    " \n",
    "sess = tf.compat.v1.Session()\n",
    "print(sess.run(zero_tensor_4x_4x_4x))"
   ]
  },
  {
   "cell_type": "code",
   "execution_count": 93,
   "metadata": {},
   "outputs": [
    {
     "name": "stdout",
     "output_type": "stream",
     "text": [
      "Tensor(\"Fill:0\", shape=(3,), dtype=int32)\n",
      "[10 10 10]\n",
      "\n",
      "########################\n",
      "\n",
      "Tensor(\"2x-Fill-Tensor:0\", shape=(2, 2), dtype=int32)\n",
      "[[15 15]\n",
      " [15 15]]\n",
      "\n",
      "########################\n",
      "\n",
      "Tensor(\"String-Fill-Tensor:0\", shape=(2, 2), dtype=string)\n",
      "[[b'Japan' b'Japan']\n",
      " [b'Japan' b'Japan']]\n",
      "\n",
      "########################\n",
      "\n",
      "Tensor(\"4X-Fill-Tensor:0\", shape=(4, 4, 4), dtype=float32)\n",
      "[[[10.15 10.15 10.15 10.15]\n",
      "  [10.15 10.15 10.15 10.15]\n",
      "  [10.15 10.15 10.15 10.15]\n",
      "  [10.15 10.15 10.15 10.15]]\n",
      "\n",
      " [[10.15 10.15 10.15 10.15]\n",
      "  [10.15 10.15 10.15 10.15]\n",
      "  [10.15 10.15 10.15 10.15]\n",
      "  [10.15 10.15 10.15 10.15]]\n",
      "\n",
      " [[10.15 10.15 10.15 10.15]\n",
      "  [10.15 10.15 10.15 10.15]\n",
      "  [10.15 10.15 10.15 10.15]\n",
      "  [10.15 10.15 10.15 10.15]]\n",
      "\n",
      " [[10.15 10.15 10.15 10.15]\n",
      "  [10.15 10.15 10.15 10.15]\n",
      "  [10.15 10.15 10.15 10.15]\n",
      "  [10.15 10.15 10.15 10.15]]]\n",
      "\n",
      "########################\n",
      "\n"
     ]
    }
   ],
   "source": [
    "##\n",
    "# TensorFlow program to create tensor using fill function.\n",
    " \n",
    "from __future__ import absolute_import\n",
    "from __future__ import division\n",
    "from __future__ import print_function\n",
    " \n",
    "import tensorflow as tf\n",
    "fill_tensor = tf.fill([3], 10)\n",
    "fill_tensor_2x_2x = tf.fill([2, 2], 15, '2x-Fill-Tensor')\n",
    "fill_tensor_string = tf.fill([2, 2], \"Japan\", 'String-Fill-Tensor')\n",
    "fill_tensor_4x_4x_4x = tf.fill([4, 4, 4], 10.15, '4X-Fill-Tensor')\n",
    "sess = tf.compat.v1.Session()\n",
    " \n",
    "print(fill_tensor)\n",
    "print(sess.run(fill_tensor))\n",
    "print(\"\\n########################\\n\")\n",
    " \n",
    "print(fill_tensor_2x_2x)\n",
    "print(sess.run(fill_tensor_2x_2x))\n",
    "print(\"\\n########################\\n\")\n",
    " \n",
    "print(fill_tensor_string)\n",
    "print(sess.run(fill_tensor_string))\n",
    "print(\"\\n########################\\n\")\n",
    " \n",
    "print(fill_tensor_4x_4x_4x)\n",
    "print(sess.run(fill_tensor_4x_4x_4x))\n",
    "print(\"\\n########################\\n\")\n",
    "\n"
   ]
  },
  {
   "cell_type": "code",
   "execution_count": 94,
   "metadata": {},
   "outputs": [
    {
     "name": "stdout",
     "output_type": "stream",
     "text": [
      "Tensor(\"Linspace-Tensor/Slice:0\", shape=(5,), dtype=float32)\n",
      "[ 5.    6.25  7.5   8.75 10.  ]\n",
      "\n",
      "########################\n",
      "\n",
      "Tensor(\"Linspace-Tensor-Down/Slice:0\", shape=(20,), dtype=float32)\n",
      "[100.        95.789474  91.57895   87.36842   83.1579    78.94737\n",
      "  74.73684   70.52631   66.31579   62.105263  57.894737  53.684208\n",
      "  49.473682  45.263157  41.052628  36.842102  32.631577  28.421051\n",
      "  24.210526  20.      ]\n"
     ]
    }
   ],
   "source": [
    "\n",
    "import tensorflow as tf\n",
    "linspace_tensor = tf.linspace(5.0, 10.0, 5, \"Linspace-Tensor\")\n",
    "linspace_tensor_dec = tf.linspace(100.0, 20.0, 20, \"Linspace-Tensor-Down\")\n",
    "sess = tf.compat.v1.Session()\n",
    " \n",
    "print(linspace_tensor)\n",
    "print(sess.run(linspace_tensor))\n",
    "print(\"\\n########################\\n\")\n",
    " \n",
    "print(linspace_tensor_dec)\n",
    "print(sess.run(linspace_tensor_dec))\n"
   ]
  },
  {
   "cell_type": "code",
   "execution_count": 95,
   "metadata": {},
   "outputs": [
    {
     "name": "stdout",
     "output_type": "stream",
     "text": [
      "Tensor(\"range:0\", shape=(6,), dtype=float32)\n",
      "[20.  35.5 51.  66.5 82.  97.5]\n",
      "\n",
      "########################\n",
      "\n",
      "Tensor(\"Range-Tensor:0\", shape=(7,), dtype=float32)\n",
      "[ 0.  15.5 31.  46.5 62.  77.5 93. ]\n",
      "\n",
      "########################\n",
      "\n"
     ]
    }
   ],
   "source": [
    "import tensorflow as tf\n",
    "range_tensor = tf.range(20.0, 100.0, delta=15.5)\n",
    "range_tensor_delta = tf.range(100.0, delta=15.5, name=\"Range-Tensor\")\n",
    "sess = tf.compat.v1.Session()\n",
    " \n",
    "print(range_tensor)\n",
    "print(sess.run(range_tensor))\n",
    "print(\"\\n########################\\n\")\n",
    " \n",
    "print(range_tensor_delta)\n",
    "print(sess.run(range_tensor_delta))\n",
    "print(\"\\n########################\\n\")\n"
   ]
  },
  {
   "cell_type": "code",
   "execution_count": 96,
   "metadata": {},
   "outputs": [
    {
     "name": "stdout",
     "output_type": "stream",
     "text": [
      "\n",
      "--------------------------     RANDOM NORMAL   ------------------\n",
      "\n",
      "Tensor(\"RNT:0\", shape=(10,), dtype=float64)\n",
      "[-0.34064193  4.30710676  3.59750487 -1.41286625  2.14947099  1.67891937\n",
      "  1.67808956  0.99808282 -0.68974314  1.71557364]\n",
      "\n",
      "-----------------------------------------------------------------\n",
      "\n",
      "\n",
      "--------------------------     RANDOM UNIFROM  ------------------\n",
      "\n",
      "Tensor(\"RUT:0\", shape=(10,), dtype=float64)\n",
      "[0.99500728 2.40773057 0.0444392  4.81911375 0.26385767 2.03512842\n",
      " 4.11517952 4.81721658 0.10539152 0.64811462]\n",
      "---------------------------------------------------------------------\n"
     ]
    }
   ],
   "source": [
    "import tensorflow as tf\n",
    "random_normal_tensor = tf.random.normal([10], mean=1.0, stddev=2.0,\n",
    "                                        dtype=tf.float64, name=\"RNT\")\n",
    " \n",
    "random_uniform_tensor = tf.random.uniform([10], minval=0.0, maxval=5.0,\n",
    "                                          dtype=tf.float64, name=\"RUT\")\n",
    "sess = tf.compat.v1.Session()\n",
    "print(\"\\n--------------------------     RANDOM NORMAL   ------------------\\n\")\n",
    "print(random_normal_tensor)\n",
    "print(sess.run(random_normal_tensor))\n",
    "print(\"\\n-----------------------------------------------------------------\\n\")\n",
    " \n",
    "print(\"\\n--------------------------     RANDOM UNIFROM  ------------------\\n\")\n",
    "print(random_uniform_tensor)\n",
    "print(sess.run(random_uniform_tensor))\n",
    "print(\"---------------------------------------------------------------------\")\n",
    "\n"
   ]
  },
  {
   "cell_type": "code",
   "execution_count": null,
   "metadata": {},
   "outputs": [],
   "source": []
  }
 ],
 "metadata": {
  "kernelspec": {
   "display_name": "Python 3",
   "language": "python",
   "name": "python3"
  },
  "language_info": {
   "codemirror_mode": {
    "name": "ipython",
    "version": 3
   },
   "file_extension": ".py",
   "mimetype": "text/x-python",
   "name": "python",
   "nbconvert_exporter": "python",
   "pygments_lexer": "ipython3",
   "version": "3.8.5"
  }
 },
 "nbformat": 4,
 "nbformat_minor": 4
}
