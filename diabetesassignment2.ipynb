{
 "cells": [
  {
   "cell_type": "code",
   "execution_count": 1,
   "metadata": {},
   "outputs": [],
   "source": [
    "import pandas as pd\n",
    "import numpy as np\n",
    "import sklearn as sk\n",
    "# read csv\n",
    "entiredf=pd.read_csv(\"diabetes.csv\")\n",
    "entiredf.dtypes\n",
    "df=entiredf"
   ]
  },
  {
   "cell_type": "code",
   "execution_count": 2,
   "metadata": {},
   "outputs": [
    {
     "name": "stdout",
     "output_type": "stream",
     "text": [
      "<class 'pandas.core.frame.DataFrame'>\n",
      "RangeIndex: 768 entries, 0 to 767\n",
      "Data columns (total 9 columns):\n",
      " #   Column                    Non-Null Count  Dtype  \n",
      "---  ------                    --------------  -----  \n",
      " 0   Pregnancies               768 non-null    int64  \n",
      " 1   Glucose                   768 non-null    int64  \n",
      " 2   BloodPressure             768 non-null    int64  \n",
      " 3   SkinThickness             768 non-null    int64  \n",
      " 4   Insulin                   768 non-null    int64  \n",
      " 5   BMI                       768 non-null    float64\n",
      " 6   DiabetesPedigreeFunction  768 non-null    float64\n",
      " 7   Age                       768 non-null    int64  \n",
      " 8   Outcome                   768 non-null    int64  \n",
      "dtypes: float64(2), int64(7)\n",
      "memory usage: 54.1 KB\n"
     ]
    }
   ],
   "source": [
    "df.head()\n",
    "df.info()"
   ]
  },
  {
   "cell_type": "code",
   "execution_count": 3,
   "metadata": {},
   "outputs": [
    {
     "name": "stdout",
     "output_type": "stream",
     "text": [
      "Total record for class 0 : 500 \n",
      "Total record for class 1 : 268\n"
     ]
    }
   ],
   "source": [
    "#1. Find total record for class 0 and class 1 from the outcome column\n",
    "print(\"Total record for class 0 :\",df.Outcome[df.Outcome==0].count() ,\"\\nTotal record for class 1 :\",df.Outcome[df.Outcome==1].count())"
   ]
  },
  {
   "cell_type": "code",
   "execution_count": 4,
   "metadata": {},
   "outputs": [
    {
     "name": "stdout",
     "output_type": "stream",
     "text": [
      "The attributes of the data frame are : ['Pregnancies', 'Glucose', 'BloodPressure', 'SkinThickness', 'Insulin', 'BMI', 'DiabetesPedigreeFunction', 'Age', 'Outcome']\n",
      "\n",
      "Enter the required attribute :Pregnancies\n",
      "\n",
      "\n",
      "Unique values and counts\n",
      "             count\n",
      "Pregnancies       \n",
      "0              111\n",
      "1              135\n",
      "2              103\n",
      "3               75\n",
      "4               68\n",
      "5               57\n",
      "6               50\n",
      "7               45\n",
      "8               38\n",
      "9               28\n",
      "10              24\n",
      "11              11\n",
      "12               9\n",
      "13              10\n",
      "14               2\n",
      "15               1\n",
      "17               1\n"
     ]
    }
   ],
   "source": [
    "#2. Find Distinct values for different attributes (Columns) and print total count for each.\n",
    "print(\"The attributes of the data frame are :\",list(df.columns))\n",
    "while 1:\n",
    "    attr=str(input(\"\\nEnter the required attribute :\"))\n",
    "    if attr not in df.columns:\n",
    "        print(\"Incorect attribute!! \\nPOSSIBLE VALS \\n\",list(df.columns))\n",
    "    else:\n",
    "        print(\"\\n\\nUnique values and counts\")\n",
    "        print(df.groupby([attr]).Outcome.count().to_frame('count')) # to create count column heading used conversion to df\n",
    "        break\n",
    "        \n",
    "\n",
    "if 1==0 :\n",
    "    for i in df.columns:\n",
    "        print(df.groupby([i]).Outcome.count())\n",
    "        print(\"\\n\\n\\n\")\n",
    "\n"
   ]
  },
  {
   "cell_type": "code",
   "execution_count": 5,
   "metadata": {},
   "outputs": [
    {
     "data": {
      "text/html": [
       "<div>\n",
       "<style scoped>\n",
       "    .dataframe tbody tr th:only-of-type {\n",
       "        vertical-align: middle;\n",
       "    }\n",
       "\n",
       "    .dataframe tbody tr th {\n",
       "        vertical-align: top;\n",
       "    }\n",
       "\n",
       "    .dataframe thead th {\n",
       "        text-align: right;\n",
       "    }\n",
       "</style>\n",
       "<table border=\"1\" class=\"dataframe\">\n",
       "  <thead>\n",
       "    <tr style=\"text-align: right;\">\n",
       "      <th></th>\n",
       "      <th>Pregnancies</th>\n",
       "      <th>Glucose</th>\n",
       "      <th>BloodPressure</th>\n",
       "      <th>SkinThickness</th>\n",
       "      <th>Insulin</th>\n",
       "      <th>BMI</th>\n",
       "      <th>DiabetesPedigreeFunction</th>\n",
       "      <th>Age</th>\n",
       "      <th>Outcome</th>\n",
       "    </tr>\n",
       "  </thead>\n",
       "  <tbody>\n",
       "    <tr>\n",
       "      <th>0</th>\n",
       "      <td>6</td>\n",
       "      <td>148</td>\n",
       "      <td>72</td>\n",
       "      <td>35</td>\n",
       "      <td>0</td>\n",
       "      <td>33.6</td>\n",
       "      <td>0.627</td>\n",
       "      <td>50</td>\n",
       "      <td>1</td>\n",
       "    </tr>\n",
       "    <tr>\n",
       "      <th>1</th>\n",
       "      <td>1</td>\n",
       "      <td>85</td>\n",
       "      <td>66</td>\n",
       "      <td>29</td>\n",
       "      <td>0</td>\n",
       "      <td>26.6</td>\n",
       "      <td>0.351</td>\n",
       "      <td>31</td>\n",
       "      <td>0</td>\n",
       "    </tr>\n",
       "    <tr>\n",
       "      <th>2</th>\n",
       "      <td>8</td>\n",
       "      <td>183</td>\n",
       "      <td>64</td>\n",
       "      <td>0</td>\n",
       "      <td>0</td>\n",
       "      <td>23.3</td>\n",
       "      <td>0.672</td>\n",
       "      <td>32</td>\n",
       "      <td>1</td>\n",
       "    </tr>\n",
       "    <tr>\n",
       "      <th>3</th>\n",
       "      <td>1</td>\n",
       "      <td>89</td>\n",
       "      <td>66</td>\n",
       "      <td>23</td>\n",
       "      <td>94</td>\n",
       "      <td>28.1</td>\n",
       "      <td>0.167</td>\n",
       "      <td>21</td>\n",
       "      <td>0</td>\n",
       "    </tr>\n",
       "    <tr>\n",
       "      <th>4</th>\n",
       "      <td>0</td>\n",
       "      <td>137</td>\n",
       "      <td>40</td>\n",
       "      <td>35</td>\n",
       "      <td>168</td>\n",
       "      <td>43.1</td>\n",
       "      <td>2.288</td>\n",
       "      <td>33</td>\n",
       "      <td>1</td>\n",
       "    </tr>\n",
       "  </tbody>\n",
       "</table>\n",
       "</div>"
      ],
      "text/plain": [
       "   Pregnancies  Glucose  BloodPressure  SkinThickness  Insulin   BMI  \\\n",
       "0            6      148             72             35        0  33.6   \n",
       "1            1       85             66             29        0  26.6   \n",
       "2            8      183             64              0        0  23.3   \n",
       "3            1       89             66             23       94  28.1   \n",
       "4            0      137             40             35      168  43.1   \n",
       "\n",
       "   DiabetesPedigreeFunction  Age  Outcome  \n",
       "0                     0.627   50        1  \n",
       "1                     0.351   31        0  \n",
       "2                     0.672   32        1  \n",
       "3                     0.167   21        0  \n",
       "4                     2.288   33        1  "
      ]
     },
     "execution_count": 5,
     "metadata": {},
     "output_type": "execute_result"
    }
   ],
   "source": [
    "df.head()\n"
   ]
  },
  {
   "cell_type": "code",
   "execution_count": 6,
   "metadata": {},
   "outputs": [],
   "source": [
    "#3. What is the Gini coefficient of the attributes(Columns).\n",
    "\n",
    "def gini(col):\n",
    "    #https://en.wikipedia.org/wiki/Decision_tree_learning#Gini_impurit\n",
    "    #https://github.com/random-forests/tutorials/blob/master/decision_tree.ipynb\n",
    "    #https://www.youtube.com/watch?v=7VeUPuFGJHk&t=499s       stack quest\n",
    "    # information gain... confusion!!!!\n",
    "    \n",
    "    if not(isinstance(col,pd.core.series.Series)):\n",
    "        print(\"pass pandas series as argument (pd.core.series.Series) \")\n",
    "        return None\n",
    "      \n",
    "    impurity = 1.0\n",
    "    no_of_entrys=float(len(col))\n",
    "    vals_count_dict=dict(col.value_counts()) # converted value_counts to a dictionary\n",
    "    for key in vals_count_dict :\n",
    "         key_probablity=vals_count_dict[key] / no_of_entrys # no of occurance of an element by / total of occurances of elements\n",
    "         impurity -= key_probablity ** 2  #  G = 1 - Sigma  Pi*Pi  for  i   0 to  no_of_types_of_elements\n",
    "    return impurity\n",
    "\n",
    "\n",
    "#  split branches takes column to be splitted and outcome cols    while returning left true and right\n",
    "def split_branches(col,outcome):\n",
    "    return col[outcome==1],col[outcome==0] # return true branch left and false at right\n",
    "\n",
    "\n",
    "\n",
    "\n",
    "# to find total gini impurity __ using left and right branches w.r.t outcome __\n",
    "#  using the weights also \n",
    "#  (no_of_Left_row / total rows)(left_Gini) * (    (no_of_Right_row / total rows)(Right_Gini)  ) ------->eqn: 1\n",
    "\n",
    "def total_gini(df,col=\"NONE\",Outcome_at=-1):\n",
    "    if col == \"NONE \":\n",
    "        print(\"Enter column name as second arg \")\n",
    "        return None\n",
    "    left_branch,right_branch = split_branches(df[col],df.iloc[:,Outcome_at])\n",
    "    # now calculate gini left and gini right \n",
    "    gini_left,gini_right = gini(left_branch), gini(right_branch)\n",
    "    # Then calculate total gini  as in eqn: 1  \n",
    "    Gini_total =  ( ( len(left_branch) /(  (len(left_branch) + len (right_branch))  ) ) * gini_left ) \\\n",
    "                 +( ( len(right_branch) /( (len(left_branch) + len (right_branch))  ) )* gini_right )\n",
    "    return Gini_total\n",
    "    \n",
    "    \n",
    "    \n",
    "    "
   ]
  },
  {
   "cell_type": "code",
   "execution_count": 7,
   "metadata": {},
   "outputs": [
    {
     "name": "stdout",
     "output_type": "stream",
     "text": [
      "['Pregnancies', 'Glucose', 'BloodPressure', 'SkinThickness', 'Insulin', 'BMI', 'DiabetesPedigreeFunction', 'Age', 'Outcome']\n",
      "Pregnancies    0.8879085043532338\n",
      "Glucose    0.9866325404228844\n",
      "BloodPressure    0.9545571361940293\n",
      "SkinThickness    0.8960757929104473\n",
      "Insulin    0.7591714863184059\n",
      "BMI    0.9919699160447737\n",
      "DiabetesPedigreeFunction    0.996096393034821\n",
      "Age    0.9524200093283581\n"
     ]
    },
    {
     "data": {
      "text/plain": [
       "0.8879085043532338"
      ]
     },
     "execution_count": 7,
     "metadata": {},
     "output_type": "execute_result"
    }
   ],
   "source": [
    "print(list(df.columns))\n",
    "for i in df.iloc[:,:-1].columns:\n",
    "    print(i,\"  \",total_gini(df,i))\n",
    "total_gini(df,col=\"Pregnancies\")"
   ]
  },
  {
   "cell_type": "code",
   "execution_count": 8,
   "metadata": {
    "scrolled": false
   },
   "outputs": [
    {
     "data": {
      "text/plain": [
       "7      0.134\n",
       "10     0.191\n",
       "33     0.188\n",
       "81     0.102\n",
       "101    0.179\n",
       "123    0.186\n",
       "154    0.137\n",
       "170    0.180\n",
       "178    0.190\n",
       "180    0.084\n",
       "190    0.142\n",
       "196    0.187\n",
       "207    0.151\n",
       "226    0.198\n",
       "268    0.078\n",
       "283    0.165\n",
       "319    0.129\n",
       "333    0.137\n",
       "347    0.187\n",
       "400    0.161\n",
       "401    0.151\n",
       "404    0.135\n",
       "430    0.108\n",
       "433    0.167\n",
       "468    0.183\n",
       "474    0.126\n",
       "494    0.174\n",
       "518    0.180\n",
       "522    0.189\n",
       "524    0.151\n",
       "536    0.197\n",
       "560    0.121\n",
       "583    0.190\n",
       "586    0.129\n",
       "596    0.194\n",
       "598    0.088\n",
       "601    0.190\n",
       "616    0.157\n",
       "619    0.141\n",
       "624    0.158\n",
       "628    0.144\n",
       "634    0.167\n",
       "636    0.153\n",
       "642    0.178\n",
       "658    0.190\n",
       "660    0.182\n",
       "678    0.127\n",
       "694    0.191\n",
       "708    0.148\n",
       "714    0.121\n",
       "729    0.141\n",
       "749    0.178\n",
       "758    0.197\n",
       "762    0.142\n",
       "Name: DiabetesPedigreeFunction, dtype: float64"
      ]
     },
     "execution_count": 8,
     "metadata": {},
     "output_type": "execute_result"
    }
   ],
   "source": [
    "#4. Find DiabetesPedigreeFunction which is < .200 if skin thickness and Insulin is o .\n",
    "df.DiabetesPedigreeFunction[(df.DiabetesPedigreeFunction < 0.200)  & (df.SkinThickness==0) & (df.Insulin == 0) ]"
   ]
  },
  {
   "cell_type": "code",
   "execution_count": 9,
   "metadata": {},
   "outputs": [
    {
     "name": "stdout",
     "output_type": "stream",
     "text": [
      "7        0\n",
      "11      74\n",
      "12      80\n",
      "25      70\n",
      "34      78\n",
      "143     66\n",
      "246     68\n",
      "270     86\n",
      "281     76\n",
      "306     68\n",
      "327     70\n",
      "458     84\n",
      "464     98\n",
      "505     82\n",
      "542     85\n",
      "578     68\n",
      "634     62\n",
      "660     84\n",
      "667     70\n",
      "672    106\n",
      "706      0\n",
      "712     62\n",
      "717     72\n",
      "763     76\n",
      "Name: BloodPressure, dtype: int64\n",
      "average blood pressure : 69.10546875\n"
     ]
    }
   ],
   "source": [
    "#5. Check what will be the blood presser level if pregnancies count is 10 and print the average BP level.\n",
    "df.loc[:,['Pregnancies','BloodPressure']]\n",
    "print(\"average blood pressure :\",df.BloodPressure.mean())\n",
    "\n",
    "# two variable for regression\n"
   ]
  }
 ],
 "metadata": {
  "kernelspec": {
   "display_name": "Python 3",
   "language": "python",
   "name": "python3"
  },
  "language_info": {
   "codemirror_mode": {
    "name": "ipython",
    "version": 3
   },
   "file_extension": ".py",
   "mimetype": "text/x-python",
   "name": "python",
   "nbconvert_exporter": "python",
   "pygments_lexer": "ipython3",
   "version": "3.8.3"
  }
 },
 "nbformat": 4,
 "nbformat_minor": 4
}
