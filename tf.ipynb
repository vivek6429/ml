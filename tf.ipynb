{
 "cells": [
  {
   "cell_type": "code",
   "execution_count": 19,
   "metadata": {},
   "outputs": [
    {
     "data": {
      "text/plain": [
       "42"
      ]
     },
     "execution_count": 19,
     "metadata": {},
     "output_type": "execute_result"
    }
   ],
   "source": [
    "import numpy as np\n",
    "import tensorflow as tf\n",
    "@tf.function\n",
    "def sum_even(items):\n",
    "    s = 0\n",
    "    for c in items:\n",
    "        if tf.equal(c % 2, 0):\n",
    "            s += c\n",
    "    return s\n",
    "sum_even(tf.constant([10, 12, 15, 20])).numpy()\n",
    "\n",
    "\n"
   ]
  },
  {
   "cell_type": "code",
   "execution_count": 54,
   "metadata": {},
   "outputs": [
    {
     "name": "stdout",
     "output_type": "stream",
     "text": [
      "Tensor(\"case_14/cond/Merge:0\", shape=(), dtype=int32)\n"
     ]
    }
   ],
   "source": [
    "import tensorflow.compat.v1 as tf\n",
    "tf.disable_v2_behavior()\n",
    "x=tf.constant(22) #= tf.constant(int(input(\"enter number :\")))\n",
    "y =tf.constant(2)#= tf.constant(int(input(\"enter number :\")))\n",
    "z =tf.constant(23)\n",
    "# z =tf.constant(int(input(\"1*2/3+4-\")) )\n",
    "# def f1(): return tf.constant(17)\n",
    "\n",
    "# r = tf.case([(tf.equal(z,1), f1)],default=f3, exclusive=True)\n",
    "\n",
    "def f1(): return tf.sum(x,y)\n",
    "def f2(): return tf\n",
    "def f3(): return tf.constant(-1)\n",
    "r = tf.case([(tf.less(x, y), f1), (tf.greater(x, z), f2)],\n",
    "         default=f3, exclusive=True)\n",
    "print(r)"
   ]
  },
  {
   "cell_type": "code",
   "execution_count": 89,
   "metadata": {},
   "outputs": [
    {
     "name": "stdout",
     "output_type": "stream",
     "text": [
      " 1 \t * \n",
      " 2 \t + \n",
      " 3 \t -\n",
      "1\n",
      "\n",
      " result= 484\n"
     ]
    }
   ],
   "source": [
    "import tensorflow.compat.v1 as tf\n",
    "#x= tf.constant(int(input(\"enter number :\")))\n",
    "#y= tf.constant(int(input(\"enter number :\")))\n",
    "x=tf.constant(22)\n",
    "y=tf.constant(22)\n",
    "\n",
    "def f1(): return tf.multiply(x,y)\n",
    "def f2(): return tf.add(x,y)\n",
    "def f3(): return tf.subtract(x,y)\n",
    "\n",
    "ip=int(input(\" 1 \\t * \\n 2 \\t + \\n 3 \\t -\\n\"))-1\n",
    "branch_index=tf.constant(ip)\n",
    "# print(branch_index)\n",
    "\n",
    "switch = tf.switch_case(branch_index, branch_fns={0: f1, 1: f2}, default=f3)\n",
    "sess = tf.Session()\n",
    "res=sess.run(switch)\n",
    "print(\"\\n result=\",res)"
   ]
  },
  {
   "cell_type": "code",
   "execution_count": 90,
   "metadata": {},
   "outputs": [
    {
     "name": "stdout",
     "output_type": "stream",
     "text": [
      "Tensor(\"Const_167:0\", shape=(3,), dtype=int32)\n",
      "Tensor(\"Const_168:0\", shape=(2, 3), dtype=float32)\n",
      "\n",
      "########################\n",
      "\n",
      "Tensor(\"Const_169:0\", shape=(3, 3), dtype=int32)\n",
      "[[1 2 3]\n",
      " [4 5 6]\n",
      " [7 8 9]]\n",
      "\n",
      "########################\n",
      "\n",
      "Tensor(\"Const_170:0\", shape=(2,), dtype=string)\n",
      "\n",
      "########################\n",
      "\n",
      "Tensor(\"Const_171:0\", shape=(5,), dtype=float32)\n",
      "[15.5 20.5 35.5 40.1 80.5]\n",
      "\n",
      "########################\n",
      "\n"
     ]
    }
   ],
   "source": [
    "import tensorflow as tf\n",
    "\n",
    "t1 = tf.constant([1, 2, 3])\n",
    "t2 = tf.constant([[1.1, 2.2, 3.3], [4, 5, 6]])\n",
    "t3 = tf.constant([[1, 2, 3], [4, 5, 6], [7, 8, 9]])\n",
    "t4 = tf.constant([\"India\", \"Australia\"])\n",
    "t5 = tf.constant([15.5, 20.5, 35.5, 40.1, 80.5])\n",
    "\n",
    "sess = tf.compat.v1.Session()\n",
    " \n",
    "print(t1)\n",
    "print(t2)\n",
    " \n",
    "print(\"\\n########################\\n\")\n",
    "print(t3)\n",
    "print(sess.run(t3))\n",
    "print(\"\\n########################\\n\")\n",
    " \n",
    "print(t4)\n",
    " \n",
    "print(\"\\n########################\\n\")\n",
    "print(t5)\n",
    "print(sess.run(t5))\n",
    "print(\"\\n########################\\n\")\n"
   ]
  },
  {
   "cell_type": "code",
   "execution_count": 92,
   "metadata": {},
   "outputs": [
    {
     "name": "stdout",
     "output_type": "stream",
     "text": [
      "Tensor(\"zeros_1:0\", shape=(3,), dtype=float32)\n",
      "Tensor(\"ZeroTensor_1:0\", shape=(3,), dtype=int32)\n",
      "Tensor(\"4X-ZeroTensor_1:0\", shape=(4, 4, 4), dtype=int8)\n",
      "[[[0 0 0 0]\n",
      "  [0 0 0 0]\n",
      "  [0 0 0 0]\n",
      "  [0 0 0 0]]\n",
      "\n",
      " [[0 0 0 0]\n",
      "  [0 0 0 0]\n",
      "  [0 0 0 0]\n",
      "  [0 0 0 0]]\n",
      "\n",
      " [[0 0 0 0]\n",
      "  [0 0 0 0]\n",
      "  [0 0 0 0]\n",
      "  [0 0 0 0]]\n",
      "\n",
      " [[0 0 0 0]\n",
      "  [0 0 0 0]\n",
      "  [0 0 0 0]\n",
      "  [0 0 0 0]]]\n"
     ]
    }
   ],
   "source": [
    "# TensorFlow program to create tensor using zeros function.\n",
    " \n",
    "from __future__ import absolute_import\n",
    "from __future__ import division\n",
    "from __future__ import print_function\n",
    " \n",
    "import tensorflow as tf\n",
    "zero_tensor = tf.zeros([3])\n",
    "zero_tensor_int = tf.zeros([3], tf.int32, 'ZeroTensor')\n",
    "zero_tensor_4x_4x_4x = tf.zeros([4, 4, 4], tf.int8, '4X-ZeroTensor')\n",
    " \n",
    "print(zero_tensor)\n",
    "print(zero_tensor_int)\n",
    "print(zero_tensor_4x_4x_4x)\n",
    " \n",
    "sess = tf.compat.v1.Session()\n",
    "print(sess.run(zero_tensor_4x_4x_4x))"
   ]
  }
 ],
 "metadata": {
  "kernelspec": {
   "display_name": "Python 3",
   "language": "python",
   "name": "python3"
  },
  "language_info": {
   "codemirror_mode": {
    "name": "ipython",
    "version": 3
   },
   "file_extension": ".py",
   "mimetype": "text/x-python",
   "name": "python",
   "nbconvert_exporter": "python",
   "pygments_lexer": "ipython3",
   "version": "3.8.5"
  }
 },
 "nbformat": 4,
 "nbformat_minor": 4
}
