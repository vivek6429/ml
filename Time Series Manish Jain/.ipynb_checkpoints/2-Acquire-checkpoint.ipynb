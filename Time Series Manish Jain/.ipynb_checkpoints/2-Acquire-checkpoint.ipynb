{
 "cells": [
  {
   "cell_type": "markdown",
   "metadata": {},
   "source": [
    "# 2. Acquire the Data\n",
    "\n",
    "\n",
    "## Finding Data Sources\n",
    "\n",
    "There are three place to get onion price and quantity information by market. \n",
    "\n",
    "1. **[Agmarket](http://agmarknet.nic.in/)** - This is the website run by the Directorate of Marketing & Inspection (DMI), Ministry of Agriculture, Government of India and provides daily price and arrival data for all agricultural commodities at national and state level. Unfortunately, the link to get Market-wise Daily Report for Specific Commodity (Onion for us) leads to a multipage aspx entry form to get data for each date. So it is like to require an involved scraper to get the data. Too much effort - Move on. Here is the best link to go to get what is available - http://agmarknet.nic.in/agnew/NationalBEnglish/SpecificCommodityWeeklyReport.aspx?ss=1\n",
    "\n",
    "\n",
    "2. **[Data.gov.in](https://data.gov.in/)** - This is normally a good place to get government data in a machine readable form like csv or xml. The Variety-wise Daily Market Prices Data of Onion is available for each year as an XML but unfortunately it does not include quantity information that is needed. It would be good to have both price and quantity - so even though this is easy, lets see if we can get both from a different source. Here is the best link to go to get what is available - https://data.gov.in/catalog/variety-wise-daily-market-prices-data-onion#web_catalog_tabs_block_10\n",
    "\n",
    "\n",
    "3. **[NHRDF](http://nhrdf.org/en-us/)** - This is the website of National Horticultural Research & Development Foundation and maintains a database on Market Arrivals and Price, Area and Production and Export Data for three commodities - Garlic, Onion and Potatoes. We are in luck! It also has data from 1996 onwards and has only got one form to fill to get the data in a tabular form. Further it also has production and export data. Excellent. Lets use this. Here is the best link to got to get all that is available - http://nhrdf.org/en-us/DatabaseReports\n",
    "\n",
    "\n",
    "## Scraping the Data\n",
    "\n",
    "\n",
    "### Ways to Scrape Data\n",
    "Now we can do this in two different levels of sophistication\n",
    "\n",
    "1. **Automate the form filling process**: The form on this page looks simple. But viewing source in the browser shows there form to fill with hidden fields and we will need to access it as a browser to get the session fields and then submit the form. This is a little bit more complicated than simple scraping a table on a webpage\n",
    "\n",
    "2. **Manually fill the form**: What if we manually fill the form with the desired form fields and then save the page as a html file. Then we can read this file and just scrape the table from it. Lets go with the simple way for now.\n",
    "\n",
    "\n",
    "### Scraping - Manual Form Filling\n",
    "\n",
    "So let us fill the form to get a small subset of data and test our scraping process.  We will start by getting the [Monthwise Market Arrivals](http://nhrdf.org/en-us/MonthWiseMarketArrivals). \n",
    "\n",
    "- Crop Name: Onion\n",
    "- Month: January\n",
    "- Market: All\n",
    "- Year: 2016\n",
    "\n",
    "The saved webpage is available at [MonthWiseMarketArrivalsJan2016.html](MonthWiseMarketArrivalsJan2016.html)\n",
    "\n",
    "### Understand the HTML Structure\n",
    "\n",
    "We need to scrape data from this html page... So let us try to understand the structure of the page.\n",
    "\n",
    "1. You can view the source of the page - typically Right Click and View Source on any browser and that would give your the source HTML for any page.\n",
    "\n",
    "2. You can open the developer tools in your browser and investigate the structure as you mouse over the page \n",
    "\n",
    "3. We can use a tools like [Selector Gadget](http://selectorgadget.com/) to understand the id's and classes' used in the web page\n",
    "\n",
    "Our data is under the **&lt;table&gt;** tag "
   ]
  },
  {
   "cell_type": "markdown",
   "metadata": {},
   "source": [
    "### Exercise #1"
   ]
  },
  {
   "cell_type": "markdown",
   "metadata": {},
   "source": [
    "Find the number of tables in the HTML Structure of [MonthWiseMarketArrivalsJan2016.html](MonthWiseMarketArrivalsJan2016.html)?"
   ]
  },
  {
   "cell_type": "code",
   "execution_count": null,
   "metadata": {
    "collapsed": true
   },
   "outputs": [],
   "source": []
  },
  {
   "cell_type": "markdown",
   "metadata": {},
   "source": [
    "### Find all the Tables "
   ]
  },
  {
   "cell_type": "code",
   "execution_count": 2,
   "metadata": {},
   "outputs": [],
   "source": [
    "# Import the library we need, which is Pandas\n",
    "import pandas as pd"
   ]
  },
  {
   "cell_type": "code",
   "execution_count": 3,
   "metadata": {},
   "outputs": [],
   "source": [
    "# Read all the tables from the html document \n",
    "AllTables = pd.read_html('MonthWiseMarketArrivalsJan2016.html')"
   ]
  },
  {
   "cell_type": "code",
   "execution_count": 3,
   "metadata": {
    "scrolled": true
   },
   "outputs": [
    {
     "data": {
      "text/plain": [
       "5"
      ]
     },
     "execution_count": 3,
     "metadata": {},
     "output_type": "execute_result"
    }
   ],
   "source": [
    "# Let us find out how many tables has it found?\n",
    "len(AllTables)"
   ]
  },
  {
   "cell_type": "code",
   "execution_count": 5,
   "metadata": {},
   "outputs": [
    {
     "name": "stdout",
     "output_type": "stream",
     "text": [
      "[                                       0\n",
      "0  MONTH WISE MARKET ARRIVALS AND PRICES,              0                                                  1         2  \\\n",
      "0  Crop Name :                      Select  Garlic  Onion  Potato  Market :   \n",
      "1      Month :  All  January  February  March  April  May  Jun...    Year :   \n",
      "2          NaN                                                NaN       NaN   \n",
      "\n",
      "                                                   3  \n",
      "0  All  ABOHAR(PB)  AGRA(UP)  AHMEDABAD(GUJ)  AHM...  \n",
      "1  All  2016  2015  2014  2013  2012  2011  2010 ...  \n",
      "2                                                NaN  ,                                                  0\n",
      "0  MONTH WISE MARKET ARRIVALS AND PRICES FOR ONION,                                                     0           1      2  \\\n",
      "0   MarketMonth NameYearArrival (q)Price Minimum (...         NaN    NaN   \n",
      "1                                              Market  Month Name   Year   \n",
      "2                                            AGRA(UP)     January   2016   \n",
      "3                                      AHMEDABAD(GUJ)     January   2016   \n",
      "4                                      AHMEDNAGAR(MS)     January   2016   \n",
      "..                                                ...         ...    ...   \n",
      "81                                       UDAIPUR(RAJ)     January   2016   \n",
      "82                                           VANI(MS)     January   2016   \n",
      "83                                       VARANASI(UP)     January   2016   \n",
      "84                                          YEOLA(MS)     January   2016   \n",
      "85                                                NaN         NaN  Total   \n",
      "\n",
      "              3                     4                     5  \\\n",
      "0           NaN                   NaN                   NaN   \n",
      "1   Arrival (q)  Price Minimum (Rs/q)  Price Maximum (Rs/q)   \n",
      "2        134200                  1039                  1443   \n",
      "3        198390                   646                  1224   \n",
      "4        208751                   175                  1722   \n",
      "..          ...                   ...                   ...   \n",
      "81         6456                   386                  1307   \n",
      "82        60983                   767                  1323   \n",
      "83        28900                  1460                  1503   \n",
      "84       437432                   437                  1272   \n",
      "85      9307923              751(Avg)             1490(Avg)   \n",
      "\n",
      "                     6  \n",
      "0                  NaN  \n",
      "1   Modal Price (Rs/q)  \n",
      "2                 1349  \n",
      "3                  997  \n",
      "4                 1138  \n",
      "..                 ...  \n",
      "81                 846  \n",
      "82                1007  \n",
      "83                1484  \n",
      "84                1034  \n",
      "85           1186(Avg)  \n",
      "\n",
      "[86 rows x 7 columns],             Market Month Name   Year  Arrival (q) Price Minimum (Rs/q)  \\\n",
      "0         AGRA(UP)    January   2016       134200                 1039   \n",
      "1   AHMEDABAD(GUJ)    January   2016       198390                  646   \n",
      "2   AHMEDNAGAR(MS)    January   2016       208751                  175   \n",
      "3       AJMER(RAJ)    January   2016         4247                  722   \n",
      "4      ALIGARH(UP)    January   2016        12350                 1219   \n",
      "..             ...        ...    ...          ...                  ...   \n",
      "79    UDAIPUR(RAJ)    January   2016         6456                  386   \n",
      "80        VANI(MS)    January   2016        60983                  767   \n",
      "81    VARANASI(UP)    January   2016        28900                 1460   \n",
      "82       YEOLA(MS)    January   2016       437432                  437   \n",
      "83             NaN        NaN  Total      9307923             751(Avg)   \n",
      "\n",
      "   Price Maximum (Rs/q) Modal Price (Rs/q)  \n",
      "0                  1443               1349  \n",
      "1                  1224                997  \n",
      "2                  1722               1138  \n",
      "3                  1067                939  \n",
      "4                  1298               1257  \n",
      "..                  ...                ...  \n",
      "79                 1307                846  \n",
      "80                 1323               1007  \n",
      "81                 1503               1484  \n",
      "82                 1272               1034  \n",
      "83            1490(Avg)          1186(Avg)  \n",
      "\n",
      "[84 rows x 7 columns]]\n"
     ]
    }
   ],
   "source": [
    "type(AllTables)\n",
    "print(AllTables)"
   ]
  },
  {
   "cell_type": "markdown",
   "metadata": {},
   "source": [
    "### Exercise #2\n",
    "Find the exact table of data we want in the list of AllTables?"
   ]
  },
  {
   "cell_type": "code",
   "execution_count": 6,
   "metadata": {},
   "outputs": [
    {
     "data": {
      "text/html": [
       "<div>\n",
       "<style scoped>\n",
       "    .dataframe tbody tr th:only-of-type {\n",
       "        vertical-align: middle;\n",
       "    }\n",
       "\n",
       "    .dataframe tbody tr th {\n",
       "        vertical-align: top;\n",
       "    }\n",
       "\n",
       "    .dataframe thead th {\n",
       "        text-align: right;\n",
       "    }\n",
       "</style>\n",
       "<table border=\"1\" class=\"dataframe\">\n",
       "  <thead>\n",
       "    <tr style=\"text-align: right;\">\n",
       "      <th></th>\n",
       "      <th>Market</th>\n",
       "      <th>Month Name</th>\n",
       "      <th>Year</th>\n",
       "      <th>Arrival (q)</th>\n",
       "      <th>Price Minimum (Rs/q)</th>\n",
       "      <th>Price Maximum (Rs/q)</th>\n",
       "      <th>Modal Price (Rs/q)</th>\n",
       "    </tr>\n",
       "  </thead>\n",
       "  <tbody>\n",
       "    <tr>\n",
       "      <th>0</th>\n",
       "      <td>AGRA(UP)</td>\n",
       "      <td>January</td>\n",
       "      <td>2016</td>\n",
       "      <td>134200</td>\n",
       "      <td>1039</td>\n",
       "      <td>1443</td>\n",
       "      <td>1349</td>\n",
       "    </tr>\n",
       "    <tr>\n",
       "      <th>1</th>\n",
       "      <td>AHMEDABAD(GUJ)</td>\n",
       "      <td>January</td>\n",
       "      <td>2016</td>\n",
       "      <td>198390</td>\n",
       "      <td>646</td>\n",
       "      <td>1224</td>\n",
       "      <td>997</td>\n",
       "    </tr>\n",
       "    <tr>\n",
       "      <th>2</th>\n",
       "      <td>AHMEDNAGAR(MS)</td>\n",
       "      <td>January</td>\n",
       "      <td>2016</td>\n",
       "      <td>208751</td>\n",
       "      <td>175</td>\n",
       "      <td>1722</td>\n",
       "      <td>1138</td>\n",
       "    </tr>\n",
       "    <tr>\n",
       "      <th>3</th>\n",
       "      <td>AJMER(RAJ)</td>\n",
       "      <td>January</td>\n",
       "      <td>2016</td>\n",
       "      <td>4247</td>\n",
       "      <td>722</td>\n",
       "      <td>1067</td>\n",
       "      <td>939</td>\n",
       "    </tr>\n",
       "    <tr>\n",
       "      <th>4</th>\n",
       "      <td>ALIGARH(UP)</td>\n",
       "      <td>January</td>\n",
       "      <td>2016</td>\n",
       "      <td>12350</td>\n",
       "      <td>1219</td>\n",
       "      <td>1298</td>\n",
       "      <td>1257</td>\n",
       "    </tr>\n",
       "    <tr>\n",
       "      <th>...</th>\n",
       "      <td>...</td>\n",
       "      <td>...</td>\n",
       "      <td>...</td>\n",
       "      <td>...</td>\n",
       "      <td>...</td>\n",
       "      <td>...</td>\n",
       "      <td>...</td>\n",
       "    </tr>\n",
       "    <tr>\n",
       "      <th>79</th>\n",
       "      <td>UDAIPUR(RAJ)</td>\n",
       "      <td>January</td>\n",
       "      <td>2016</td>\n",
       "      <td>6456</td>\n",
       "      <td>386</td>\n",
       "      <td>1307</td>\n",
       "      <td>846</td>\n",
       "    </tr>\n",
       "    <tr>\n",
       "      <th>80</th>\n",
       "      <td>VANI(MS)</td>\n",
       "      <td>January</td>\n",
       "      <td>2016</td>\n",
       "      <td>60983</td>\n",
       "      <td>767</td>\n",
       "      <td>1323</td>\n",
       "      <td>1007</td>\n",
       "    </tr>\n",
       "    <tr>\n",
       "      <th>81</th>\n",
       "      <td>VARANASI(UP)</td>\n",
       "      <td>January</td>\n",
       "      <td>2016</td>\n",
       "      <td>28900</td>\n",
       "      <td>1460</td>\n",
       "      <td>1503</td>\n",
       "      <td>1484</td>\n",
       "    </tr>\n",
       "    <tr>\n",
       "      <th>82</th>\n",
       "      <td>YEOLA(MS)</td>\n",
       "      <td>January</td>\n",
       "      <td>2016</td>\n",
       "      <td>437432</td>\n",
       "      <td>437</td>\n",
       "      <td>1272</td>\n",
       "      <td>1034</td>\n",
       "    </tr>\n",
       "    <tr>\n",
       "      <th>83</th>\n",
       "      <td>NaN</td>\n",
       "      <td>NaN</td>\n",
       "      <td>Total</td>\n",
       "      <td>9307923</td>\n",
       "      <td>751(Avg)</td>\n",
       "      <td>1490(Avg)</td>\n",
       "      <td>1186(Avg)</td>\n",
       "    </tr>\n",
       "  </tbody>\n",
       "</table>\n",
       "<p>84 rows × 7 columns</p>\n",
       "</div>"
      ],
      "text/plain": [
       "            Market Month Name   Year  Arrival (q) Price Minimum (Rs/q)  \\\n",
       "0         AGRA(UP)    January   2016       134200                 1039   \n",
       "1   AHMEDABAD(GUJ)    January   2016       198390                  646   \n",
       "2   AHMEDNAGAR(MS)    January   2016       208751                  175   \n",
       "3       AJMER(RAJ)    January   2016         4247                  722   \n",
       "4      ALIGARH(UP)    January   2016        12350                 1219   \n",
       "..             ...        ...    ...          ...                  ...   \n",
       "79    UDAIPUR(RAJ)    January   2016         6456                  386   \n",
       "80        VANI(MS)    January   2016        60983                  767   \n",
       "81    VARANASI(UP)    January   2016        28900                 1460   \n",
       "82       YEOLA(MS)    January   2016       437432                  437   \n",
       "83             NaN        NaN  Total      9307923             751(Avg)   \n",
       "\n",
       "   Price Maximum (Rs/q) Modal Price (Rs/q)  \n",
       "0                  1443               1349  \n",
       "1                  1224                997  \n",
       "2                  1722               1138  \n",
       "3                  1067                939  \n",
       "4                  1298               1257  \n",
       "..                  ...                ...  \n",
       "79                 1307                846  \n",
       "80                 1323               1007  \n",
       "81                 1503               1484  \n",
       "82                 1272               1034  \n",
       "83            1490(Avg)          1186(Avg)  \n",
       "\n",
       "[84 rows x 7 columns]"
      ]
     },
     "execution_count": 6,
     "metadata": {},
     "output_type": "execute_result"
    }
   ],
   "source": [
    "AllTables[4]"
   ]
  },
  {
   "cell_type": "markdown",
   "metadata": {},
   "source": [
    "### Get the exact table\n",
    "To read the exact table we need to pass in an identifier value which would identify the table. We can use the `attrs` parameter in read_html to do so. The parameter we will pass is the `id` variable"
   ]
  },
  {
   "cell_type": "code",
   "execution_count": 8,
   "metadata": {},
   "outputs": [],
   "source": [
    "# So can we read our exact table\n",
    "OneTable = pd.read_html('MonthWiseMarketArrivalsJan2016.html', \n",
    "                      attrs = {'id' : 'dnn_ctr974_MonthWiseMarketArrivals_GridView1'})"
   ]
  },
  {
   "cell_type": "code",
   "execution_count": 9,
   "metadata": {},
   "outputs": [
    {
     "data": {
      "text/plain": [
       "1"
      ]
     },
     "execution_count": 9,
     "metadata": {},
     "output_type": "execute_result"
    }
   ],
   "source": [
    "# So how many tables have we got now\n",
    "len(OneTable)"
   ]
  },
  {
   "cell_type": "code",
   "execution_count": 10,
   "metadata": {},
   "outputs": [
    {
     "data": {
      "text/html": [
       "<div>\n",
       "<style scoped>\n",
       "    .dataframe tbody tr th:only-of-type {\n",
       "        vertical-align: middle;\n",
       "    }\n",
       "\n",
       "    .dataframe tbody tr th {\n",
       "        vertical-align: top;\n",
       "    }\n",
       "\n",
       "    .dataframe thead th {\n",
       "        text-align: right;\n",
       "    }\n",
       "</style>\n",
       "<table border=\"1\" class=\"dataframe\">\n",
       "  <thead>\n",
       "    <tr style=\"text-align: right;\">\n",
       "      <th></th>\n",
       "      <th>Market</th>\n",
       "      <th>Month Name</th>\n",
       "      <th>Year</th>\n",
       "      <th>Arrival (q)</th>\n",
       "      <th>Price Minimum (Rs/q)</th>\n",
       "      <th>Price Maximum (Rs/q)</th>\n",
       "      <th>Modal Price (Rs/q)</th>\n",
       "    </tr>\n",
       "  </thead>\n",
       "  <tbody>\n",
       "    <tr>\n",
       "      <th>0</th>\n",
       "      <td>AGRA(UP)</td>\n",
       "      <td>January</td>\n",
       "      <td>2016</td>\n",
       "      <td>134200</td>\n",
       "      <td>1039</td>\n",
       "      <td>1443</td>\n",
       "      <td>1349</td>\n",
       "    </tr>\n",
       "    <tr>\n",
       "      <th>1</th>\n",
       "      <td>AHMEDABAD(GUJ)</td>\n",
       "      <td>January</td>\n",
       "      <td>2016</td>\n",
       "      <td>198390</td>\n",
       "      <td>646</td>\n",
       "      <td>1224</td>\n",
       "      <td>997</td>\n",
       "    </tr>\n",
       "    <tr>\n",
       "      <th>2</th>\n",
       "      <td>AHMEDNAGAR(MS)</td>\n",
       "      <td>January</td>\n",
       "      <td>2016</td>\n",
       "      <td>208751</td>\n",
       "      <td>175</td>\n",
       "      <td>1722</td>\n",
       "      <td>1138</td>\n",
       "    </tr>\n",
       "    <tr>\n",
       "      <th>3</th>\n",
       "      <td>AJMER(RAJ)</td>\n",
       "      <td>January</td>\n",
       "      <td>2016</td>\n",
       "      <td>4247</td>\n",
       "      <td>722</td>\n",
       "      <td>1067</td>\n",
       "      <td>939</td>\n",
       "    </tr>\n",
       "    <tr>\n",
       "      <th>4</th>\n",
       "      <td>ALIGARH(UP)</td>\n",
       "      <td>January</td>\n",
       "      <td>2016</td>\n",
       "      <td>12350</td>\n",
       "      <td>1219</td>\n",
       "      <td>1298</td>\n",
       "      <td>1257</td>\n",
       "    </tr>\n",
       "  </tbody>\n",
       "</table>\n",
       "</div>"
      ],
      "text/plain": [
       "           Market Month Name  Year  Arrival (q) Price Minimum (Rs/q)  \\\n",
       "0        AGRA(UP)    January  2016       134200                 1039   \n",
       "1  AHMEDABAD(GUJ)    January  2016       198390                  646   \n",
       "2  AHMEDNAGAR(MS)    January  2016       208751                  175   \n",
       "3      AJMER(RAJ)    January  2016         4247                  722   \n",
       "4     ALIGARH(UP)    January  2016        12350                 1219   \n",
       "\n",
       "  Price Maximum (Rs/q) Modal Price (Rs/q)  \n",
       "0                 1443               1349  \n",
       "1                 1224                997  \n",
       "2                 1722               1138  \n",
       "3                 1067                939  \n",
       "4                 1298               1257  "
      ]
     },
     "execution_count": 10,
     "metadata": {},
     "output_type": "execute_result"
    }
   ],
   "source": [
    "# Show the table of data identifed by pandas with just the first five rows\n",
    "OneTable[0].head()"
   ]
  },
  {
   "cell_type": "markdown",
   "metadata": {},
   "source": [
    "However, we have not got the header correctly in our dataframe. Let us see if we can fix this.\n",
    "\n",
    "To get help on any function just use `??` before the function to help. Run this function and see what additional parameter you need to define to get the header correctly"
   ]
  },
  {
   "cell_type": "code",
   "execution_count": 11,
   "metadata": {},
   "outputs": [],
   "source": [
    "??pd.read_html"
   ]
  },
  {
   "cell_type": "markdown",
   "metadata": {},
   "source": [
    "### Exercise #3\n",
    "Read the html file again and ensure that the correct header is identifed by pandas?"
   ]
  },
  {
   "cell_type": "code",
   "execution_count": 11,
   "metadata": {},
   "outputs": [],
   "source": [
    "OneTable = pd.read_html('MonthWiseMarketArrivalsJan2016.html', header = 0,\n",
    "                      attrs = {'id' : 'dnn_ctr974_MonthWiseMarketArrivals_GridView1'})"
   ]
  },
  {
   "cell_type": "markdown",
   "metadata": {},
   "source": [
    "Show the top five rows of the dataframe you have read to ensure the headers are now correct."
   ]
  },
  {
   "cell_type": "code",
   "execution_count": 12,
   "metadata": {
    "scrolled": true
   },
   "outputs": [
    {
     "data": {
      "text/html": [
       "<div>\n",
       "<style scoped>\n",
       "    .dataframe tbody tr th:only-of-type {\n",
       "        vertical-align: middle;\n",
       "    }\n",
       "\n",
       "    .dataframe tbody tr th {\n",
       "        vertical-align: top;\n",
       "    }\n",
       "\n",
       "    .dataframe thead th {\n",
       "        text-align: right;\n",
       "    }\n",
       "</style>\n",
       "<table border=\"1\" class=\"dataframe\">\n",
       "  <thead>\n",
       "    <tr style=\"text-align: right;\">\n",
       "      <th></th>\n",
       "      <th>Market</th>\n",
       "      <th>Month Name</th>\n",
       "      <th>Year</th>\n",
       "      <th>Arrival (q)</th>\n",
       "      <th>Price Minimum (Rs/q)</th>\n",
       "      <th>Price Maximum (Rs/q)</th>\n",
       "      <th>Modal Price (Rs/q)</th>\n",
       "    </tr>\n",
       "  </thead>\n",
       "  <tbody>\n",
       "    <tr>\n",
       "      <th>0</th>\n",
       "      <td>AGRA(UP)</td>\n",
       "      <td>January</td>\n",
       "      <td>2016</td>\n",
       "      <td>134200</td>\n",
       "      <td>1039</td>\n",
       "      <td>1443</td>\n",
       "      <td>1349</td>\n",
       "    </tr>\n",
       "    <tr>\n",
       "      <th>1</th>\n",
       "      <td>AHMEDABAD(GUJ)</td>\n",
       "      <td>January</td>\n",
       "      <td>2016</td>\n",
       "      <td>198390</td>\n",
       "      <td>646</td>\n",
       "      <td>1224</td>\n",
       "      <td>997</td>\n",
       "    </tr>\n",
       "    <tr>\n",
       "      <th>2</th>\n",
       "      <td>AHMEDNAGAR(MS)</td>\n",
       "      <td>January</td>\n",
       "      <td>2016</td>\n",
       "      <td>208751</td>\n",
       "      <td>175</td>\n",
       "      <td>1722</td>\n",
       "      <td>1138</td>\n",
       "    </tr>\n",
       "    <tr>\n",
       "      <th>3</th>\n",
       "      <td>AJMER(RAJ)</td>\n",
       "      <td>January</td>\n",
       "      <td>2016</td>\n",
       "      <td>4247</td>\n",
       "      <td>722</td>\n",
       "      <td>1067</td>\n",
       "      <td>939</td>\n",
       "    </tr>\n",
       "    <tr>\n",
       "      <th>4</th>\n",
       "      <td>ALIGARH(UP)</td>\n",
       "      <td>January</td>\n",
       "      <td>2016</td>\n",
       "      <td>12350</td>\n",
       "      <td>1219</td>\n",
       "      <td>1298</td>\n",
       "      <td>1257</td>\n",
       "    </tr>\n",
       "  </tbody>\n",
       "</table>\n",
       "</div>"
      ],
      "text/plain": [
       "           Market Month Name  Year  Arrival (q) Price Minimum (Rs/q)  \\\n",
       "0        AGRA(UP)    January  2016       134200                 1039   \n",
       "1  AHMEDABAD(GUJ)    January  2016       198390                  646   \n",
       "2  AHMEDNAGAR(MS)    January  2016       208751                  175   \n",
       "3      AJMER(RAJ)    January  2016         4247                  722   \n",
       "4     ALIGARH(UP)    January  2016        12350                 1219   \n",
       "\n",
       "  Price Maximum (Rs/q) Modal Price (Rs/q)  \n",
       "0                 1443               1349  \n",
       "1                 1224                997  \n",
       "2                 1722               1138  \n",
       "3                 1067                939  \n",
       "4                 1298               1257  "
      ]
     },
     "execution_count": 12,
     "metadata": {},
     "output_type": "execute_result"
    }
   ],
   "source": [
    "OneTable[0].head()"
   ]
  },
  {
   "cell_type": "markdown",
   "metadata": {
    "collapsed": true
   },
   "source": [
    "###  Dataframe Viewing  "
   ]
  },
  {
   "cell_type": "code",
   "execution_count": 13,
   "metadata": {},
   "outputs": [],
   "source": [
    "# Let us store the dataframe in a df variable. You will see that as a very common convention in data science pandas use\n",
    "df = OneTable[0]"
   ]
  },
  {
   "cell_type": "code",
   "execution_count": 14,
   "metadata": {},
   "outputs": [
    {
     "data": {
      "text/plain": [
       "(84, 7)"
      ]
     },
     "execution_count": 14,
     "metadata": {},
     "output_type": "execute_result"
    }
   ],
   "source": [
    "# Shape of the dateset - number of rows & number of columns in the dataframe\n",
    "df.shape"
   ]
  },
  {
   "cell_type": "code",
   "execution_count": 15,
   "metadata": {},
   "outputs": [
    {
     "data": {
      "text/plain": [
       "Index(['Market', 'Month Name', 'Year', 'Arrival (q)', 'Price Minimum (Rs/q)',\n",
       "       'Price Maximum (Rs/q)', 'Modal Price (Rs/q)'],\n",
       "      dtype='object')"
      ]
     },
     "execution_count": 15,
     "metadata": {},
     "output_type": "execute_result"
    }
   ],
   "source": [
    "# Get the names of all the columns \n",
    "df.columns"
   ]
  },
  {
   "cell_type": "code",
   "execution_count": 16,
   "metadata": {},
   "outputs": [
    {
     "data": {
      "text/html": [
       "<div>\n",
       "<style scoped>\n",
       "    .dataframe tbody tr th:only-of-type {\n",
       "        vertical-align: middle;\n",
       "    }\n",
       "\n",
       "    .dataframe tbody tr th {\n",
       "        vertical-align: top;\n",
       "    }\n",
       "\n",
       "    .dataframe thead th {\n",
       "        text-align: right;\n",
       "    }\n",
       "</style>\n",
       "<table border=\"1\" class=\"dataframe\">\n",
       "  <thead>\n",
       "    <tr style=\"text-align: right;\">\n",
       "      <th></th>\n",
       "      <th>Market</th>\n",
       "      <th>Month Name</th>\n",
       "      <th>Year</th>\n",
       "      <th>Arrival (q)</th>\n",
       "      <th>Price Minimum (Rs/q)</th>\n",
       "      <th>Price Maximum (Rs/q)</th>\n",
       "      <th>Modal Price (Rs/q)</th>\n",
       "    </tr>\n",
       "  </thead>\n",
       "  <tbody>\n",
       "    <tr>\n",
       "      <th>0</th>\n",
       "      <td>AGRA(UP)</td>\n",
       "      <td>January</td>\n",
       "      <td>2016</td>\n",
       "      <td>134200</td>\n",
       "      <td>1039</td>\n",
       "      <td>1443</td>\n",
       "      <td>1349</td>\n",
       "    </tr>\n",
       "    <tr>\n",
       "      <th>1</th>\n",
       "      <td>AHMEDABAD(GUJ)</td>\n",
       "      <td>January</td>\n",
       "      <td>2016</td>\n",
       "      <td>198390</td>\n",
       "      <td>646</td>\n",
       "      <td>1224</td>\n",
       "      <td>997</td>\n",
       "    </tr>\n",
       "    <tr>\n",
       "      <th>2</th>\n",
       "      <td>AHMEDNAGAR(MS)</td>\n",
       "      <td>January</td>\n",
       "      <td>2016</td>\n",
       "      <td>208751</td>\n",
       "      <td>175</td>\n",
       "      <td>1722</td>\n",
       "      <td>1138</td>\n",
       "    </tr>\n",
       "    <tr>\n",
       "      <th>3</th>\n",
       "      <td>AJMER(RAJ)</td>\n",
       "      <td>January</td>\n",
       "      <td>2016</td>\n",
       "      <td>4247</td>\n",
       "      <td>722</td>\n",
       "      <td>1067</td>\n",
       "      <td>939</td>\n",
       "    </tr>\n",
       "    <tr>\n",
       "      <th>4</th>\n",
       "      <td>ALIGARH(UP)</td>\n",
       "      <td>January</td>\n",
       "      <td>2016</td>\n",
       "      <td>12350</td>\n",
       "      <td>1219</td>\n",
       "      <td>1298</td>\n",
       "      <td>1257</td>\n",
       "    </tr>\n",
       "  </tbody>\n",
       "</table>\n",
       "</div>"
      ],
      "text/plain": [
       "           Market Month Name  Year  Arrival (q) Price Minimum (Rs/q)  \\\n",
       "0        AGRA(UP)    January  2016       134200                 1039   \n",
       "1  AHMEDABAD(GUJ)    January  2016       198390                  646   \n",
       "2  AHMEDNAGAR(MS)    January  2016       208751                  175   \n",
       "3      AJMER(RAJ)    January  2016         4247                  722   \n",
       "4     ALIGARH(UP)    January  2016        12350                 1219   \n",
       "\n",
       "  Price Maximum (Rs/q) Modal Price (Rs/q)  \n",
       "0                 1443               1349  \n",
       "1                 1224                997  \n",
       "2                 1722               1138  \n",
       "3                 1067                939  \n",
       "4                 1298               1257  "
      ]
     },
     "execution_count": 16,
     "metadata": {},
     "output_type": "execute_result"
    }
   ],
   "source": [
    "# Can we see sample rows - the top 5 rows\n",
    "df.head()"
   ]
  },
  {
   "cell_type": "code",
   "execution_count": 17,
   "metadata": {},
   "outputs": [
    {
     "data": {
      "text/html": [
       "<div>\n",
       "<style scoped>\n",
       "    .dataframe tbody tr th:only-of-type {\n",
       "        vertical-align: middle;\n",
       "    }\n",
       "\n",
       "    .dataframe tbody tr th {\n",
       "        vertical-align: top;\n",
       "    }\n",
       "\n",
       "    .dataframe thead th {\n",
       "        text-align: right;\n",
       "    }\n",
       "</style>\n",
       "<table border=\"1\" class=\"dataframe\">\n",
       "  <thead>\n",
       "    <tr style=\"text-align: right;\">\n",
       "      <th></th>\n",
       "      <th>Market</th>\n",
       "      <th>Month Name</th>\n",
       "      <th>Year</th>\n",
       "      <th>Arrival (q)</th>\n",
       "      <th>Price Minimum (Rs/q)</th>\n",
       "      <th>Price Maximum (Rs/q)</th>\n",
       "      <th>Modal Price (Rs/q)</th>\n",
       "    </tr>\n",
       "  </thead>\n",
       "  <tbody>\n",
       "    <tr>\n",
       "      <th>79</th>\n",
       "      <td>UDAIPUR(RAJ)</td>\n",
       "      <td>January</td>\n",
       "      <td>2016</td>\n",
       "      <td>6456</td>\n",
       "      <td>386</td>\n",
       "      <td>1307</td>\n",
       "      <td>846</td>\n",
       "    </tr>\n",
       "    <tr>\n",
       "      <th>80</th>\n",
       "      <td>VANI(MS)</td>\n",
       "      <td>January</td>\n",
       "      <td>2016</td>\n",
       "      <td>60983</td>\n",
       "      <td>767</td>\n",
       "      <td>1323</td>\n",
       "      <td>1007</td>\n",
       "    </tr>\n",
       "    <tr>\n",
       "      <th>81</th>\n",
       "      <td>VARANASI(UP)</td>\n",
       "      <td>January</td>\n",
       "      <td>2016</td>\n",
       "      <td>28900</td>\n",
       "      <td>1460</td>\n",
       "      <td>1503</td>\n",
       "      <td>1484</td>\n",
       "    </tr>\n",
       "    <tr>\n",
       "      <th>82</th>\n",
       "      <td>YEOLA(MS)</td>\n",
       "      <td>January</td>\n",
       "      <td>2016</td>\n",
       "      <td>437432</td>\n",
       "      <td>437</td>\n",
       "      <td>1272</td>\n",
       "      <td>1034</td>\n",
       "    </tr>\n",
       "    <tr>\n",
       "      <th>83</th>\n",
       "      <td>NaN</td>\n",
       "      <td>NaN</td>\n",
       "      <td>Total</td>\n",
       "      <td>9307923</td>\n",
       "      <td>751(Avg)</td>\n",
       "      <td>1490(Avg)</td>\n",
       "      <td>1186(Avg)</td>\n",
       "    </tr>\n",
       "  </tbody>\n",
       "</table>\n",
       "</div>"
      ],
      "text/plain": [
       "          Market Month Name   Year  Arrival (q) Price Minimum (Rs/q)  \\\n",
       "79  UDAIPUR(RAJ)    January   2016         6456                  386   \n",
       "80      VANI(MS)    January   2016        60983                  767   \n",
       "81  VARANASI(UP)    January   2016        28900                 1460   \n",
       "82     YEOLA(MS)    January   2016       437432                  437   \n",
       "83           NaN        NaN  Total      9307923             751(Avg)   \n",
       "\n",
       "   Price Maximum (Rs/q) Modal Price (Rs/q)  \n",
       "79                 1307                846  \n",
       "80                 1323               1007  \n",
       "81                 1503               1484  \n",
       "82                 1272               1034  \n",
       "83            1490(Avg)          1186(Avg)  "
      ]
     },
     "execution_count": 17,
     "metadata": {},
     "output_type": "execute_result"
    }
   ],
   "source": [
    "# Can we see sample rows - the bottom 5 rows\n",
    "df.tail()"
   ]
  },
  {
   "cell_type": "code",
   "execution_count": 18,
   "metadata": {},
   "outputs": [
    {
     "data": {
      "text/plain": [
       "0           AGRA(UP)\n",
       "1     AHMEDABAD(GUJ)\n",
       "2     AHMEDNAGAR(MS)\n",
       "3         AJMER(RAJ)\n",
       "4        ALIGARH(UP)\n",
       "           ...      \n",
       "79      UDAIPUR(RAJ)\n",
       "80          VANI(MS)\n",
       "81      VARANASI(UP)\n",
       "82         YEOLA(MS)\n",
       "83               NaN\n",
       "Name: Market, Length: 84, dtype: object"
      ]
     },
     "execution_count": 18,
     "metadata": {},
     "output_type": "execute_result"
    }
   ],
   "source": [
    "# Can we access a specific columns\n",
    "df[\"Market\"]"
   ]
  },
  {
   "cell_type": "code",
   "execution_count": 19,
   "metadata": {},
   "outputs": [
    {
     "data": {
      "text/plain": [
       "0           AGRA(UP)\n",
       "1     AHMEDABAD(GUJ)\n",
       "2     AHMEDNAGAR(MS)\n",
       "3         AJMER(RAJ)\n",
       "4        ALIGARH(UP)\n",
       "           ...      \n",
       "79      UDAIPUR(RAJ)\n",
       "80          VANI(MS)\n",
       "81      VARANASI(UP)\n",
       "82         YEOLA(MS)\n",
       "83               NaN\n",
       "Name: Market, Length: 84, dtype: object"
      ]
     },
     "execution_count": 19,
     "metadata": {},
     "output_type": "execute_result"
    }
   ],
   "source": [
    "# Using the dot notation\n",
    "df.Market"
   ]
  },
  {
   "cell_type": "code",
   "execution_count": 20,
   "metadata": {},
   "outputs": [
    {
     "data": {
      "text/plain": [
       "0          AGRA(UP)\n",
       "1    AHMEDABAD(GUJ)\n",
       "2    AHMEDNAGAR(MS)\n",
       "3        AJMER(RAJ)\n",
       "4       ALIGARH(UP)\n",
       "Name: Market, dtype: object"
      ]
     },
     "execution_count": 20,
     "metadata": {},
     "output_type": "execute_result"
    }
   ],
   "source": [
    "# Selecting specific column and rows\n",
    "df[0:5][\"Market\"]"
   ]
  },
  {
   "cell_type": "code",
   "execution_count": 21,
   "metadata": {},
   "outputs": [
    {
     "data": {
      "text/plain": [
       "0          AGRA(UP)\n",
       "1    AHMEDABAD(GUJ)\n",
       "2    AHMEDNAGAR(MS)\n",
       "3        AJMER(RAJ)\n",
       "4       ALIGARH(UP)\n",
       "Name: Market, dtype: object"
      ]
     },
     "execution_count": 21,
     "metadata": {},
     "output_type": "execute_result"
    }
   ],
   "source": [
    "# Works both ways\n",
    "df[\"Market\"][0:5]"
   ]
  },
  {
   "cell_type": "code",
   "execution_count": 22,
   "metadata": {},
   "outputs": [
    {
     "data": {
      "text/plain": [
       "array(['AGRA(UP)', 'AHMEDABAD(GUJ)', 'AHMEDNAGAR(MS)', 'AJMER(RAJ)',\n",
       "       'ALIGARH(UP)', 'ALWAR(RAJ)', 'AMRITSAR(PB)', 'BALLIA(UP)',\n",
       "       'BANGALORE', 'BAREILLY(UP)', 'BELGAUM(KNT)', 'BHATINDA(PB)',\n",
       "       'BHAVNAGAR(GUJ)', 'BHUBNESWER(OR)', 'BIJAPUR(KNT)', 'BURDWAN(WB)',\n",
       "       'CHAKAN(MS)', 'CHANDIGARH', 'CHANDVAD(MS)', 'CHENNAI',\n",
       "       'DEESA(GUJ)', 'DEHRADOON(UTT)', 'DELHI', 'DEVALA(MS)',\n",
       "       'DHAVANGERE(KNT)', 'DHULIA(MS)', 'GONDAL(GUJ)', 'GUWAHATI',\n",
       "       'HASSAN(KNT)', 'HOSHIARPUR(PB)', 'HUBLI(KNT)', 'HYDERABAD',\n",
       "       'INDORE(MP)', 'JAIPUR', 'JALANDHAR(PB)', 'JALGAON(MS)', 'JAMMU',\n",
       "       'JAMNAGAR(GUJ)', 'JODHPUR(RAJ)', 'KALVAN(MS)', 'KANPUR(UP)',\n",
       "       'KARNAL(HR)', 'KHANNA(PB)', 'KOLHAPUR(MS)', 'KOLKATA',\n",
       "       'KOPERGAON(MS)', 'KOTA(RAJ)', 'KURNOOL(AP)', 'LASALGAON(MS)',\n",
       "       'LONAND(MS)', 'LUCKNOW', 'MAHUVA(GUJ)', 'MALEGAON(MS)',\n",
       "       'MANMAD(MS)', 'MUMBAI', 'NAGPUR', 'NEWASA(MS)', 'NIPHAD(MS)',\n",
       "       'PALAYAM(KER)', 'PATIALA(PB)', 'PATNA', 'PHALTAN (MS)',\n",
       "       'PIMPALGAON(MS)', 'PUNE(MS)', 'PURULIA(WB)', 'RAHATA(MS)',\n",
       "       'RAHURI(MS)', 'RAICHUR(KNT)', 'RAIPUR(CHGARH)', 'RAJKOT(GUJ)',\n",
       "       'SAGAR(MP)', 'SAIKHEDA(MS)', 'SANGALI(MS)', 'SANGAMNER(MS)',\n",
       "       'SATANA(MS)', 'SHRIRAMPUR(MS)', 'SINNAR(MS)', 'SOLAPUR(MS)',\n",
       "       'SURAT(GUJ)', 'UDAIPUR(RAJ)', 'VANI(MS)', 'VARANASI(UP)',\n",
       "       'YEOLA(MS)', nan], dtype=object)"
      ]
     },
     "execution_count": 22,
     "metadata": {},
     "output_type": "execute_result"
    }
   ],
   "source": [
    "#Getting unique values of State\n",
    "pd.unique(df['Market'])"
   ]
  },
  {
   "cell_type": "markdown",
   "metadata": {},
   "source": [
    "## Downloading the Entire Month Wise Arrival Data"
   ]
  },
  {
   "cell_type": "code",
   "execution_count": 33,
   "metadata": {},
   "outputs": [],
   "source": [
    "AllTable = pd.read_html('MonthWiseMarketArrivals.html', header = 0,\n",
    "                      attrs = {'id' : 'dnn_ctr974_MonthWiseMarketArrivals_GridView1'})"
   ]
  },
  {
   "cell_type": "code",
   "execution_count": 34,
   "metadata": {},
   "outputs": [
    {
     "data": {
      "text/html": [
       "<div>\n",
       "<style scoped>\n",
       "    .dataframe tbody tr th:only-of-type {\n",
       "        vertical-align: middle;\n",
       "    }\n",
       "\n",
       "    .dataframe tbody tr th {\n",
       "        vertical-align: top;\n",
       "    }\n",
       "\n",
       "    .dataframe thead th {\n",
       "        text-align: right;\n",
       "    }\n",
       "</style>\n",
       "<table border=\"1\" class=\"dataframe\">\n",
       "  <thead>\n",
       "    <tr style=\"text-align: right;\">\n",
       "      <th></th>\n",
       "      <th>Market</th>\n",
       "      <th>Month Name</th>\n",
       "      <th>Year</th>\n",
       "      <th>Arrival (q)</th>\n",
       "      <th>Price Minimum (Rs/q)</th>\n",
       "      <th>Price Maximum (Rs/q)</th>\n",
       "      <th>Modal Price (Rs/q)</th>\n",
       "    </tr>\n",
       "  </thead>\n",
       "  <tbody>\n",
       "    <tr>\n",
       "      <th>0</th>\n",
       "      <td>ABOHAR(PB)</td>\n",
       "      <td>January</td>\n",
       "      <td>2005</td>\n",
       "      <td>2350</td>\n",
       "      <td>404</td>\n",
       "      <td>493</td>\n",
       "      <td>446</td>\n",
       "    </tr>\n",
       "    <tr>\n",
       "      <th>1</th>\n",
       "      <td>ABOHAR(PB)</td>\n",
       "      <td>January</td>\n",
       "      <td>2006</td>\n",
       "      <td>900</td>\n",
       "      <td>487</td>\n",
       "      <td>638</td>\n",
       "      <td>563</td>\n",
       "    </tr>\n",
       "    <tr>\n",
       "      <th>2</th>\n",
       "      <td>ABOHAR(PB)</td>\n",
       "      <td>January</td>\n",
       "      <td>2010</td>\n",
       "      <td>790</td>\n",
       "      <td>1283</td>\n",
       "      <td>1592</td>\n",
       "      <td>1460</td>\n",
       "    </tr>\n",
       "    <tr>\n",
       "      <th>3</th>\n",
       "      <td>ABOHAR(PB)</td>\n",
       "      <td>January</td>\n",
       "      <td>2011</td>\n",
       "      <td>245</td>\n",
       "      <td>3067</td>\n",
       "      <td>3750</td>\n",
       "      <td>3433</td>\n",
       "    </tr>\n",
       "    <tr>\n",
       "      <th>4</th>\n",
       "      <td>ABOHAR(PB)</td>\n",
       "      <td>January</td>\n",
       "      <td>2012</td>\n",
       "      <td>1035</td>\n",
       "      <td>523</td>\n",
       "      <td>686</td>\n",
       "      <td>605</td>\n",
       "    </tr>\n",
       "  </tbody>\n",
       "</table>\n",
       "</div>"
      ],
      "text/plain": [
       "       Market Month Name  Year  Arrival (q) Price Minimum (Rs/q)  \\\n",
       "0  ABOHAR(PB)    January  2005         2350                  404   \n",
       "1  ABOHAR(PB)    January  2006          900                  487   \n",
       "2  ABOHAR(PB)    January  2010          790                 1283   \n",
       "3  ABOHAR(PB)    January  2011          245                 3067   \n",
       "4  ABOHAR(PB)    January  2012         1035                  523   \n",
       "\n",
       "  Price Maximum (Rs/q) Modal Price (Rs/q)  \n",
       "0                  493                446  \n",
       "1                  638                563  \n",
       "2                 1592               1460  \n",
       "3                 3750               3433  \n",
       "4                  686                605  "
      ]
     },
     "execution_count": 34,
     "metadata": {},
     "output_type": "execute_result"
    }
   ],
   "source": [
    "AllTable[0].head()"
   ]
  },
  {
   "cell_type": "code",
   "execution_count": 35,
   "metadata": {},
   "outputs": [],
   "source": [
    "??pd.DataFrame.to_csv"
   ]
  },
  {
   "cell_type": "code",
   "execution_count": 36,
   "metadata": {},
   "outputs": [
    {
     "data": {
      "text/plain": [
       "Index(['Market', 'Month Name', 'Year', 'Arrival (q)', 'Price Minimum (Rs/q)',\n",
       "       'Price Maximum (Rs/q)', 'Modal Price (Rs/q)'],\n",
       "      dtype='object')"
      ]
     },
     "execution_count": 36,
     "metadata": {},
     "output_type": "execute_result"
    }
   ],
   "source": [
    "AllTable[0].columns"
   ]
  },
  {
   "cell_type": "code",
   "execution_count": 37,
   "metadata": {},
   "outputs": [],
   "source": [
    "# Change the column names to simpler ones\n",
    "AllTable[0].columns = ['market', 'month', 'year', 'quantity', 'priceMin', 'priceMax', 'priceMod']"
   ]
  },
  {
   "cell_type": "code",
   "execution_count": 31,
   "metadata": {},
   "outputs": [
    {
     "data": {
      "text/html": [
       "<div>\n",
       "<style scoped>\n",
       "    .dataframe tbody tr th:only-of-type {\n",
       "        vertical-align: middle;\n",
       "    }\n",
       "\n",
       "    .dataframe tbody tr th {\n",
       "        vertical-align: top;\n",
       "    }\n",
       "\n",
       "    .dataframe thead th {\n",
       "        text-align: right;\n",
       "    }\n",
       "</style>\n",
       "<table border=\"1\" class=\"dataframe\">\n",
       "  <thead>\n",
       "    <tr style=\"text-align: right;\">\n",
       "      <th></th>\n",
       "      <th>market</th>\n",
       "      <th>month</th>\n",
       "      <th>year</th>\n",
       "      <th>quantity</th>\n",
       "      <th>priceMin</th>\n",
       "      <th>priceMax</th>\n",
       "      <th>priceMod</th>\n",
       "    </tr>\n",
       "  </thead>\n",
       "  <tbody>\n",
       "    <tr>\n",
       "      <th>0</th>\n",
       "      <td>ABOHAR(PB)</td>\n",
       "      <td>January</td>\n",
       "      <td>2005</td>\n",
       "      <td>2350</td>\n",
       "      <td>404</td>\n",
       "      <td>493</td>\n",
       "      <td>446</td>\n",
       "    </tr>\n",
       "    <tr>\n",
       "      <th>1</th>\n",
       "      <td>ABOHAR(PB)</td>\n",
       "      <td>January</td>\n",
       "      <td>2006</td>\n",
       "      <td>900</td>\n",
       "      <td>487</td>\n",
       "      <td>638</td>\n",
       "      <td>563</td>\n",
       "    </tr>\n",
       "    <tr>\n",
       "      <th>2</th>\n",
       "      <td>ABOHAR(PB)</td>\n",
       "      <td>January</td>\n",
       "      <td>2010</td>\n",
       "      <td>790</td>\n",
       "      <td>1283</td>\n",
       "      <td>1592</td>\n",
       "      <td>1460</td>\n",
       "    </tr>\n",
       "    <tr>\n",
       "      <th>3</th>\n",
       "      <td>ABOHAR(PB)</td>\n",
       "      <td>January</td>\n",
       "      <td>2011</td>\n",
       "      <td>245</td>\n",
       "      <td>3067</td>\n",
       "      <td>3750</td>\n",
       "      <td>3433</td>\n",
       "    </tr>\n",
       "    <tr>\n",
       "      <th>4</th>\n",
       "      <td>ABOHAR(PB)</td>\n",
       "      <td>January</td>\n",
       "      <td>2012</td>\n",
       "      <td>1035</td>\n",
       "      <td>523</td>\n",
       "      <td>686</td>\n",
       "      <td>605</td>\n",
       "    </tr>\n",
       "  </tbody>\n",
       "</table>\n",
       "</div>"
      ],
      "text/plain": [
       "       market    month  year  quantity priceMin priceMax priceMod\n",
       "0  ABOHAR(PB)  January  2005      2350      404      493      446\n",
       "1  ABOHAR(PB)  January  2006       900      487      638      563\n",
       "2  ABOHAR(PB)  January  2010       790     1283     1592     1460\n",
       "3  ABOHAR(PB)  January  2011       245     3067     3750     3433\n",
       "4  ABOHAR(PB)  January  2012      1035      523      686      605"
      ]
     },
     "execution_count": 31,
     "metadata": {},
     "output_type": "execute_result"
    }
   ],
   "source": [
    "AllTable[0].head()"
   ]
  },
  {
   "cell_type": "code",
   "execution_count": 32,
   "metadata": {},
   "outputs": [],
   "source": [
    "# Save the dataframe to a csv file\n",
    "AllTable[0].to_csv('MonthWiseMarketArrivals.csv', index = False)"
   ]
  },
  {
   "cell_type": "code",
   "execution_count": null,
   "metadata": {},
   "outputs": [],
   "source": []
  },
  {
   "cell_type": "code",
   "execution_count": null,
   "metadata": {},
   "outputs": [],
   "source": []
  }
 ],
 "metadata": {
  "kernelspec": {
   "display_name": "Python 3",
   "language": "python",
   "name": "python3"
  },
  "language_info": {
   "codemirror_mode": {
    "name": "ipython",
    "version": 3
   },
   "file_extension": ".py",
   "mimetype": "text/x-python",
   "name": "python",
   "nbconvert_exporter": "python",
   "pygments_lexer": "ipython3",
   "version": "3.8.2"
  }
 },
 "nbformat": 4,
 "nbformat_minor": 1
}
