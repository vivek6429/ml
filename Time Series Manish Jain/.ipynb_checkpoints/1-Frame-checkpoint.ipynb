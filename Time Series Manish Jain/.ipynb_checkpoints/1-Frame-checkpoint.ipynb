{
 "cells": [
  {
   "cell_type": "markdown",
   "metadata": {},
   "source": [
    "# 1. Frame the Problem\n",
    "\n",
    "In late 2010, Onion prices shot through the roof and causing grave crisis. Apparently the crisis was caused by lack of rainfall in major onion producing region - Maharashtra and Karnataka and led to large scale hoarding by the traders. The crisis caused political tension in the country and described as \"a grave concern\" by then Prime Minister Manmohan Singh.\n",
    "\n",
    "\n",
    "- BBC Article in Dec 2010 - [Stink over onion crisis is enough to make you cry](http://www.bbc.co.uk/blogs/thereporters/soutikbiswas/2010/12/indias_onion_crisis.html)\n",
    "- Hindu OpEd in Dec 2010 - [The political price of onions](http://www.thehindu.com/opinion/editorial/article977100.ece)\n",
    "\n",
    "![](img/peeling_the_onion_small.png)\n",
    "\n",
    "So what are the type of questions on Onion Prices - you would like to ask. \n",
    "\n",
    "\n",
    "## Types of Question\n",
    "\n",
    "> \"Doing data analysis requires quite a bit of thinking and we believe that when you’ve completed a good data analysis, you’ve spent more time thinking than doing.\" - Roger Peng\n",
    "\n",
    "1. **Descriptive** - \"seeks to summarize a characteristic of a set of data\"\n",
    "2. **Exploratory** - \"analyze the data to see if there are patterns, trends, or relationships between variables\" (hypothesis generating) \n",
    "3. **Inferential** - \"a restatement of this proposed hypothesis as a question and would be answered by analyzing a different set of data\" (hypothesis testing)\n",
    "4. **Predictive** - \"determine the impact on one factor based on other factor in a population - to make a prediction\"\n",
    "5. **Causal** - \"asks whether changing one factor will change another factor in a population - to establish a causal link\" \n",
    "6. **Mechanistic** - \"establish *how* the change in one factor results in change in another factor in a population - to determine the exact mechanism\"\n",
    "\n",
    "\n",
    "### Descriptive \n",
    "- Which states have the highest onion production and sales?\n",
    "- Which city (Mandi's) have the highest sales?\n",
    "- What is the average price for Onion across a year in Bangalore?\n",
    "- ...\n",
    "\n",
    "### Exploratory & Inferential \n",
    "- Is there a large difference between High and Low prices of Onion in a day?\n",
    "- What is the trend of onion price across days or months in Bangalore?\n",
    "- How is the price on onion correlated with volume of onion?\n",
    "- How is the export volume of onion correlated to domestic production volume?\n",
    "- ...\n",
    "\n",
    "### Predictive \n",
    "- What is the price of onion likely to be next day?\n",
    "- What is the price of onion likely to be next month?\n",
    "- What will be the sales quantity of onion tommorrow in Delhi?\n",
    "- ...\n",
    "\n",
    "### Causal\n",
    "- Does the change in production of onion have an impact on the onion prices? \n",
    "- Does the change in rainfall in monsoon have an impact on onion prices?\n",
    "- ...\n",
    "\n",
    "### Mechanistic\n",
    "- How does change in onion production impact the price of onion?\n",
    "- How does onion export volumes impact the prices of onion in local markets in India?\n",
    "- ...\n",
    "\n",
    "\n",
    "## Questions we will attempt\n",
    "\n",
    "### 1. Descriptive:  How big is the Bangalore onion market compared to other cities in India?\n",
    "\n",
    "### 2. Exploratory / Inferential: Have the price variation in onion prices in Bangalore really gone up over the years?\n",
    "\n",
    "### 3. Predictive: Can we predict the price of onion in Bangalore?"
   ]
  },
  {
   "cell_type": "code",
   "execution_count": null,
   "metadata": {
    "collapsed": true
   },
   "outputs": [],
   "source": []
  }
 ],
 "metadata": {
  "kernelspec": {
   "display_name": "Python 3",
   "language": "python",
   "name": "python3"
  },
  "language_info": {
   "codemirror_mode": {
    "name": "ipython",
    "version": 3
   },
   "file_extension": ".py",
   "mimetype": "text/x-python",
   "name": "python",
   "nbconvert_exporter": "python",
   "pygments_lexer": "ipython3",
   "version": "3.8.2"
  }
 },
 "nbformat": 4,
 "nbformat_minor": 1
}
